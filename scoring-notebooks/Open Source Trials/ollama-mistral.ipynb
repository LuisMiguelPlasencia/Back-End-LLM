{
 "cells": [
  {
   "cell_type": "markdown",
   "metadata": {},
   "source": [
    "# Scoring con Mistral 7B"
   ]
  },
  {
   "cell_type": "code",
   "execution_count": 2,
   "metadata": {},
   "outputs": [
    {
     "name": "stdout",
     "output_type": "stream",
     "text": [
      " 1. Global Score: 60/100 (Room for improvement)\n",
      "\n",
      "2. Scoring of skills:\n",
      "   - Active Listening: 70% (The seller showed understanding by asking about current tools)\n",
      "   - Clarity in Proposal: 75% (The proposal was clear, but lacked specific details)\n",
      "   - Identification of Needs: 80% (Identified the need for automation and connection to sources)\n",
      "   - Handling Objections: N/A (No objection was raised during this conversation)\n",
      "   - Effective Closing: 50% (Did not provide a clear call-to-action or next steps)\n",
      "   - Empathy: 60% (Empathy could be improved by validating the client's struggles with manual reporting)\n",
      "\n",
      "3. Positive feedback and areas of improvement:\n",
      "   - Good listening skills demonstrated\n",
      "   - Identified the client's need effectively\n",
      "   - Needs to provide more specific details about the solution\n",
      "   - Lacks empathy in validating the client's struggles\n",
      "   - Fails to close the sale effectively (no call-to-action or next steps)\n",
      "\n",
      "4. Recommendations for future conversations:\n",
      "   - Be more empathetic by acknowledging and validating the challenges the client faces with manual reporting\n",
      "   - Provide specific details about the solution, including benefits, features, and how it solves their problems\n",
      "   - Offer a clear call-to-action or next steps to close the sale effectively (e.g., schedule a demo, send more information, etc.)\n",
      "   - Encourage clients to share more about their current workflows to tailor the solution better to their needs\n",
      "   - Use open-ended questions to explore potential objections and address them proactively\n",
      "\n",
      "\n"
     ]
    }
   ],
   "source": [
    "import subprocess\n",
    "\n",
    "def evaluar_transcript(transcript):\n",
    "    prompt = f\"\"\"\n",
    "Eres un experto en ventas B2B. Evalúa la conversación y proporciona:\n",
    "1. Puntuación global del 0 al 100.\n",
    "2. Scoring de estas habilidades:\n",
    "   - Escucha activa\n",
    "   - Claridad en la propuesta\n",
    "   - Identificación de necesidades\n",
    "   - Gestión de objeciones\n",
    "   - Cierre efectivo\n",
    "   - Empatía\n",
    "3. Feedback positivo y puntos de mejora (bullets).\n",
    "4. Recomendaciones concretas para próximas conversaciones.\n",
    "\n",
    "Conversación:\n",
    "===\n",
    "{transcript}\n",
    "===\n",
    "    \"\"\"\n",
    "\n",
    "    result = subprocess.run(\n",
    "        ['ollama', 'run', 'mistral:instruct'],\n",
    "        input=prompt.encode(),\n",
    "        capture_output=True\n",
    "    )\n",
    "    return result.stdout.decode()\n",
    "\n",
    "# Ejemplo de uso\n",
    "transcript_de_ejemplo = \"\"\"\n",
    "Cliente: Hola, estoy buscando una forma de automatizar informes.\n",
    "Vendedor: Claro, ¿qué herramientas usas ahora?\n",
    "Cliente: Excel y Google Sheets, todo manual.\n",
    "Vendedor: Tenemos una solución que conecta tus fuentes y automatiza eso...\n",
    "\"\"\"\n",
    "\n",
    "print(evaluar_transcript(transcript_de_ejemplo))\n"
   ]
  },
  {
   "cell_type": "code",
   "execution_count": null,
   "metadata": {},
   "outputs": [
    {
     "name": "stdout",
     "output_type": "stream",
     "text": [
      " 1. Puntuación global del 0 al 100: 75/100\n",
      "2. Scoring de las habilidades:\n",
      "   - Escucha activa: 80/100 (El vendedor escuchó que el cliente está buscando una solución para automatizar informes y que utiliza Excel y Google Sheets manualmente)\n",
      "   - Claridad en la propuesta: 75/100 (El vendedor dio una idea de lo que puede ofrecer, pero no fue muy claro cómo funciona esa solución)\n",
      "   - Identificación de necesidades: 90/100 (El vendedor identificó correctamente la necesidad del cliente y ofreció una posible solución)\n",
      "   - Gestión de objeciones: Sin datos (No se ha presentado ninguna objección del cliente en esta conversación)\n",
      "   - Cierre efectivo: 0/100 (No se ha hecho un cierre efectivo, el vendedor solo dijo que tenían una solución y no ofreció ninguna demostración o prueba)\n",
      "   - Empatía: Sin datos (No se puede determinar si el vendedor mostró empatía hacia los problemas del cliente en esta conversación)\n",
      "3. Feedback positivo y puntos de mejora:\n",
      "   - Positivo: El vendedor identificó correctamente las necesidades del cliente y ofreció una posible solución\n",
      "   - Puntos de mejora: El vendedor debe hacer más claro cómo funciona esa solución, mostrar empatía con los problemas del cliente, ofrecer una demostración o prueba y gestionar cualquier objeción que pueda presentar el cliente\n",
      "4. Recomendaciones concretas para próximas conversaciones:\n",
      "   - Ofrezca una demostración de la solución a su cliente para mostrarle cómo funciona y cómo resuelve sus problemas\n",
      "   - Muestre empatía con los problemas del cliente, lo hagas sintiéndolo o sentir que entiendes sus inquietudes\n",
      "   - Presente detalles claros de la oferta y cómo se puede gestionar cualquier objeción que pueda presentar el cliente\n",
      "\n",
      "\n"
     ]
    }
   ],
   "source": [
    "import subprocess\n",
    "\n",
    "def evaluar_transcript(transcript):\n",
    "    prompt = f\"\"\"\n",
    "Responde todas las respuestas únicamente en español.\n",
    "Eres un experto en ventas B2B español (hablas castellano). Evalúa la conversación y proporciona:\n",
    "1. Puntuación global del 0 al 100.\n",
    "2. Scoring de estas habilidades:\n",
    "   - Escucha activa\n",
    "   - Claridad en la propuesta\n",
    "   - Identificación de necesidades\n",
    "   - Gestión de objeciones\n",
    "   - Cierre efectivo\n",
    "   - Empatía\n",
    "3. Feedback positivo y puntos de mejora (bullets).\n",
    "4. Recomendaciones concretas para próximas conversaciones.\n",
    "\n",
    "Conversación:\n",
    "===\n",
    "{transcript}\n",
    "===\n",
    "    \"\"\"\n",
    "\n",
    "    result = subprocess.run(\n",
    "        ['ollama', 'run', 'mistral:instruct'],\n",
    "        input=prompt.encode(),\n",
    "        capture_output=True\n",
    "    )\n",
    "    return result.stdout.decode()\n",
    "\n",
    "# Ejemplo de uso\n",
    "transcript_de_ejemplo = \"\"\"\n",
    "Cliente: Hola, estoy buscando una forma de automatizar informes.\n",
    "Vendedor: Claro, ¿qué herramientas usas ahora?\n",
    "Cliente: Excel y Google Sheets, todo manual.\n",
    "Vendedor: Tenemos una solución que conecta tus fuentes y automatiza eso...\n",
    "\"\"\"\n",
    "\n",
    "print(evaluar_transcript(transcript_de_ejemplo))\n"
   ]
  },
  {
   "cell_type": "code",
   "execution_count": 2,
   "metadata": {},
   "outputs": [],
   "source": [
    "import subprocess\n",
    "\n",
    "def evaluar_transcript(transcript,instructions):\n",
    "    prompt = f\"\"\"\n",
    "{instructions}\n",
    "\n",
    "Conversación:\n",
    "===\n",
    "{transcript}\n",
    "===\n",
    "    \"\"\"\n",
    "\n",
    "    result = subprocess.run(\n",
    "        ['ollama', 'run', 'mistral:instruct'],\n",
    "        input=prompt.encode(),\n",
    "        capture_output=True\n",
    "    )\n",
    "    return result.stdout.decode()\n"
   ]
  },
  {
   "cell_type": "code",
   "execution_count": 25,
   "metadata": {},
   "outputs": [],
   "source": [
    "prompt = \"\"\"\n",
    "Responde todas las respuestas únicamente en español.\n",
    "Eres un experto en ventas B2B español (hablas castellano). Evalúa la conversación y proporciona:\n",
    "1. Puntuación global del 0 al 100\n",
    "2. Scoring de estas habilidades:\n",
    "   - Escucha activa\n",
    "   - Claridad en la propuesta\n",
    "   - Identificación de necesidades\n",
    "   - Gestión de objeciones\n",
    "   - Cierre efectivo\n",
    "   - Empatía\n",
    "Sé estricto con la puntuación:\n",
    "   - Si la conversación es corta (menos de 10 intercambios), la puntuación global debe ser menor que 50/100\n",
    "   - No otorgues puntuaciones altas si no hay una propuesta clara, empatía explícita, ni pasos de cierre.\n",
    "   - Una conversación sin demostración, sin seguimiento ni preguntas de cierre debe estar por debajo de 50/100.\n",
    "   - Todas las habilidades tienen que tener un score. Si no eres capaz de poner un score porque no hay evidencia de esa habilidad en la conversación la nota de esa habilidad será de 0/100\n",
    "3. Feedback positivo y puntos de mejora (bullets).\n",
    "4. Recomendaciones concretas para próximas conversaciones.\n",
    "\n",
    "\"\"\""
   ]
  },
  {
   "cell_type": "code",
   "execution_count": 26,
   "metadata": {},
   "outputs": [],
   "source": [
    "transcript_de_ejemplo = \"\"\"\n",
    "Cliente: Hola, estoy buscando una forma de automatizar informes.\n",
    "Vendedor: Claro, ¿qué herramientas usas ahora?\n",
    "Cliente: Excel y Google Sheets, todo manual.\n",
    "Vendedor: Tenemos una solución que conecta tus fuentes y automatiza eso...\n",
    "\"\"\""
   ]
  },
  {
   "cell_type": "code",
   "execution_count": 28,
   "metadata": {},
   "outputs": [
    {
     "name": "stdout",
     "output_type": "stream",
     "text": [
      " 1. Puntuación global del 0 al 100: 65/100\n",
      "\n",
      "2. Scoring de estas habilidades:\n",
      "   - Escucha activa (35/100): El vendedor solo respondió a la pregunta del cliente y no parece que estuviera escuchando realmente sus necesidades ni intentara entender su situación completa.\n",
      "   - Claridad en la propuesta (70/100): La propuesta fue clara, el vendedor mencionó que tenían una solución que conecta las fuentes y automatiza los informes.\n",
      "   - Identificación de necesidades (40/100): El vendedor solo respondió a la pregunta del cliente sin identificar las necesidades reales detrás de su problema actual.\n",
      "   - Gestión de objeciones (sin evidencia, 0/100): No se puede determinar si el vendedor pudo gestionar posibles objecciones o dudas del cliente ya que la conversación fue corta y no abordó esos aspectos.\n",
      "   - Cierre efectivo (sin evidencia, 0/100): No se puede determinar si el vendedor llevó a cabo pasos de cierre efectivos ya que la conversación terminó prematuramente sin discutir cómo continuar o cómo se podía llevar a cabo la venta.\n",
      "   - Empatía (sin evidencia, 0/100): No se puede determinar si el vendedor mostró empatía hacia el cliente ya que no hubo discusión profunda sobre su situación o necesidades.\n",
      "\n",
      "3. Feedback positivo y puntos de mejora:\n",
      "   - Punto de mejora: El vendedor debió escuchar activamente al cliente para poder identificar sus necesidades y ofrecer una solución efectiva en lugar de simplemente responder a su pregunta.\n",
      "   - Feedback positivo: La propuesta fue clara y concisa.\n",
      "\n",
      "4. Recomendaciones concretas para próximas conversaciones:\n",
      "   - Pregunte sobre las necesidades del cliente en detalle, no solo en respuesta a una pregunta directa como la que respondió el vendedor.\n",
      "   - Gestione posibles objecciones o dudas que pudieran surgir durante la conversación para ganar confianza y credibilidad con el cliente.\n",
      "   - Muestre empatía haciendo preguntas relacionadas con su situación actual y mostrándole cómo su solución puede ayudarlo a resolver los problemas que enfrenta.\n",
      "   - Llévense a cabo pasos de cierre efectivos al final de la conversación para garantizar una venta exitosa.\n",
      "\n",
      "\n"
     ]
    }
   ],
   "source": [
    "print(evaluar_transcript(transcript_de_ejemplo,prompt))"
   ]
  },
  {
   "cell_type": "code",
   "execution_count": null,
   "metadata": {},
   "outputs": [],
   "source": []
  }
 ],
 "metadata": {
  "kernelspec": {
   "display_name": "Python 3",
   "language": "python",
   "name": "python3"
  },
  "language_info": {
   "codemirror_mode": {
    "name": "ipython",
    "version": 3
   },
   "file_extension": ".py",
   "mimetype": "text/x-python",
   "name": "python",
   "nbconvert_exporter": "python",
   "pygments_lexer": "ipython3",
   "version": "3.12.3"
  }
 },
 "nbformat": 4,
 "nbformat_minor": 2
}
