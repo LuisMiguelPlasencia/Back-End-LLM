{
 "cells": [
  {
   "cell_type": "markdown",
   "metadata": {},
   "source": [
    "# KPIs Perfil"
   ]
  },
  {
   "cell_type": "code",
   "execution_count": 41,
   "metadata": {},
   "outputs": [],
   "source": [
    "import re \n",
    "import subprocess\n",
    "import json\n",
    "from typing import List, Dict, Tuple\n",
    "import sys\n",
    "import os \n",
    "from dotenv import load_dotenv\n",
    "\n",
    "sys.path.insert(0, \"../../src\")\n",
    "load_dotenv()\n",
    "OPENAI_TOKEN = os.getenv(\"OPENAI_TOKEN\")"
   ]
  },
  {
   "cell_type": "code",
   "execution_count": 42,
   "metadata": {},
   "outputs": [],
   "source": [
    "from openai import OpenAI\n",
    "\n",
    "client = OpenAI(api_key=OPENAI_TOKEN)\n",
    "\n",
    "def call_gpt(prompt: str) -> str:\n",
    "    response = client.responses.create(\n",
    "        model=\"gpt-5-nano\",\n",
    "        input=prompt,\n",
    "        \n",
    "    )\n",
    "    return response.output_text"
   ]
  },
  {
   "cell_type": "markdown",
   "metadata": {},
   "source": [
    "## 1. Prospección"
   ]
  },
  {
   "cell_type": "code",
   "execution_count": 44,
   "metadata": {},
   "outputs": [],
   "source": [
    "def evaluar_prospeccion(transcript) -> Tuple[int, str]:\n",
    "  \n",
    "    prompt = f\"\"\"\n",
    "Analiza la siguiente transcripción de una llamada de ventas y evalúa la PROSPECCIÓN del vendedor según esta rúbrica:\n",
    "\n",
    "ALTA (5 puntos): El vendedor demuestra investigación previa específica y relevante sobre el cliente, la empresa o la situación. Ejemplos: menciona artículos, publicaciones en LinkedIn, eventos recientes, hitos de la empresa, ascensos de personas clave.\n",
    "\n",
    "MEDIO-ALTO (4 puntos): El vendedor personaliza parcialmente su aproximación, muestra cierto contexto del cliente, pero no llega a un nivel de investigación profunda. Ejemplos: referencia a la industria del cliente, tendencias generales del sector, retos habituales en su tipo de empresa.\n",
    "\n",
    "MEDIA (3 puntos): El vendedor hace preguntas generales de descubrimiento, sin personalización ni conexión con información previa. Ejemplos: \"cuéntame sobre tu empresa\", \"qué retos enfrentan\", \"qué soluciones usan\".\n",
    "\n",
    "MEDIO-BAJO (2 puntos): El vendedor hace preguntas mínimas o muy superficiales antes de pasar al pitch, con escasa exploración real. Ejemplos: \"ustedes trabajan con software, ¿verdad?\", \"entiendo que usan herramientas digitales\".\n",
    "\n",
    "BAJA (1 punto): El vendedor va directo al pitch sin fase de descubrimiento ni interés por conocer al cliente. Ejemplos: \"te llamo para presentar nuestro producto\", \"permíteme explicarte las ventajas\".\n",
    "\n",
    "\n",
    "TRANSCRIPCIÓN:\n",
    "{transcript}\n",
    "\n",
    "Responde ÚNICAMENTE devolviendo:\n",
    "- puntuacion: 1, 2 o 3\n",
    "- justificacion: Explicación específica con ejemplos de la transcripción\n",
    "\"\"\"\n",
    "    output = call_gpt(prompt)\n",
    "    \n",
    "    return output\n",
    "    "
   ]
  },
  {
   "cell_type": "markdown",
   "metadata": {},
   "source": [
    "## 2. Empatía"
   ]
  },
  {
   "cell_type": "code",
   "execution_count": 45,
   "metadata": {},
   "outputs": [],
   "source": [
    "def evaluar_empatia(transcript) -> Tuple[int, str]:\n",
    "  \n",
    "    prompt = f\"\"\"\n",
    "Analiza la siguiente transcripción y evalúa la EMPATÍA del vendedor:\n",
    "\n",
    "**ALTA (5 puntos)**: Valida activamente emociones del cliente, demuestra escucha genuina, parafrasea lo dicho, usa frases como \"entiendo perfectamente tu preocupación\", \"si te entiendo bien\", \"te agradezco que seas sincero\". Muestra comprensión profunda y conexión emocional.\n",
    "\n",
    "**MEDIA-ALTA (4 puntos)**: Valida emociones y preocupaciones del cliente, demuestra escucha activa, usa lenguaje empático, pero puede ser menos consistente o profundo.\n",
    "\n",
    "**MEDIA (3 puntos)**: Validación genérica o superficial. Respuestas como \"ok, entiendo\", \"claro\", \"sí, es importante\" pero sin profundizar.\n",
    "\n",
    "**MEDIA-BAJA (2 puntos)**: Poca validación emocional, respuestas mecánicas, no demuestra comprensión de las preocupaciones del cliente.\n",
    "\n",
    "**BAJA (1 punto)**: Ignora preocupaciones, interrumpe frecuentemente, descarta objeciones con frases como \"el precio no es problema\", \"sí, pero déjame decirte\", \"volviendo al tema\".\n",
    "\n",
    "TRANSCRIPCIÓN:\n",
    "{transcript}\n",
    "\n",
    "Presta especial atención a:\n",
    "- ¿El vendedor interrumpe al cliente?\n",
    "- ¿Valida las preocupaciones antes de responder?\n",
    "- ¿Usa un lenguaje empático y de comprensión?\n",
    "\n",
    "Responde ÚNICAMENTE devolviendo:\n",
    "- puntuacion: 1, 2, 3, 4 o 5\n",
    "- justificacion: Explicación específica con ejemplos de la transcripción\n",
    "\"\"\"\n",
    "    text = call_gpt(prompt)\n",
    "    return text\n",
    "    "
   ]
  },
  {
   "cell_type": "markdown",
   "metadata": {},
   "source": [
    "## 3. Dominio técnico"
   ]
  },
  {
   "cell_type": "code",
   "execution_count": 46,
   "metadata": {},
   "outputs": [],
   "source": [
    "def evaluar_dominio_tecnico(transcript) -> Tuple[int, str]:\n",
    "  \n",
    "    prompt = f\"\"\"\n",
    "Analiza la siguiente transcripción y evalúa el DOMINIO TÉCNICO del vendedor:\n",
    "\n",
    "**ALTA (5 puntos)**: Traduce características técnicas en beneficios específicos para el cliente con ejemplos concretos. Responde con confianza a preguntas técnicas complejas, usa datos específicos y métricas. Ejemplos: \"nuestra batería dura 12 horas, lo que significa que tus clientes no tendrán que recargarla durante un vuelo transatlántico\", \"la tecnología X reduce el procesamiento en 30%, permitiéndote ahorrar costes operativos\".\n",
    "\n",
    "**MEDIA-ALTA (4 puntos)**: Conecta características técnicas con beneficios del cliente, responde bien a preguntas técnicas, pero puede ser menos específico en ejemplos o métricas.\n",
    "\n",
    "**MEDIA (3 puntos)**: Menciona características técnicas pero sin conectarlas claramente con beneficios específicos para el cliente. Ejemplos: \"tiene batería de 12 horas\", \"es resistente al agua\", \"utiliza tecnología X\".\n",
    "\n",
    "**MEDIA-BAJA (2 puntos)**: Menciona algunas características básicas pero sin profundidad técnica o conexión con beneficios.\n",
    "\n",
    "**BAJA (1 punto)**: No menciona características específicas o no puede responder preguntas técnicas. Ejemplos: \"es muy bueno\", \"funciona bien\", \"déjame preguntar a mi superior\".\n",
    "\n",
    "TRANSCRIPCIÓN:\n",
    "{transcript}\n",
    "\n",
    "Evalúa si el vendedor:\n",
    "- Conoce las características técnicas del producto\n",
    "- Las conecta con beneficios específicos\n",
    "- Responde con confianza a preguntas técnicas\n",
    "\n",
    "Responde ÚNICAMENTE devolviendo:\n",
    "- puntuacion: 1, 2, 3, 4 o 5\n",
    "- justificacion: Explicación específica con ejemplos de la transcripción\n",
    "\"\"\"\n",
    "    output = call_gpt(prompt)\n",
    "    \n",
    "    return output\n",
    "    "
   ]
  },
  {
   "cell_type": "markdown",
   "metadata": {},
   "source": [
    "## 4. Negociación"
   ]
  },
  {
   "cell_type": "code",
   "execution_count": 47,
   "metadata": {},
   "outputs": [],
   "source": [
    "def evaluar_negociacion(transcript) -> Tuple[int, str]:\n",
    "  \n",
    "    prompt = f\"\"\"\n",
    "Analiza la siguiente transcripción y evalúa la NEGOCIACIÓN del vendedor:\n",
    "\n",
    "**BUENA (5 puntos)**: Aborda objeciones justificando el valor con argumentos sólidos, es firme pero flexible en condiciones, propone próximos pasos claros y específicos. Maneja múltiples objeciones de forma constructiva. Ejemplos: \"entiendo que el precio es superior, pero es una inversión que se justifica por el ahorro a largo plazo\", \"podríamos ajustar las condiciones de pago en cuotas\", \"el siguiente paso sería programar una demo con tu equipo técnico\".\n",
    "\n",
    "**MEDIA-BUENA (4 puntos)**: Aborda objeciones justificando el valor, propone próximos pasos, pero puede ser menos específico o flexible en las condiciones.\n",
    "\n",
    "**MEDIA (3 puntos)**: Aborda algunas objeciones pero puede ceder demasiado pronto o no justificar adecuadamente el valor.\n",
    "\n",
    "**MEDIA-BAJA (2 puntos)**: Evita objeciones o cede demasiado pronto, ofrece descuentos sin que se los pidan, no propone próximos pasos claros. Ejemplos: \"el precio es negociable\", \"te mando la propuesta otra vez\", \"veo si puedo ofrecerte descuento\".\n",
    "\n",
    "**BAJA (1 punto)**: Se rinde ante la primera objeción, no intenta cerrar, deja decisión en manos del cliente. Ejemplos: \"avísame si te interesa\", \"llámame si te decides\", \"no te preocupes, lo entiendo\".\n",
    "\n",
    "TRANSCRIPCIÓN:\n",
    "{transcript}\n",
    "\n",
    "Evalúa:\n",
    "- ¿Cómo maneja las objeciones?\n",
    "- ¿Justifica el valor o solo ofrece descuentos?\n",
    "- ¿Propone próximos pasos concretos?\n",
    "\n",
    "Responde ÚNICAMENTE devolviendo:\n",
    "- puntuacion: 1, 2, 3, 4 o 5\n",
    "- justificacion: Explicación específica con ejemplos de la transcripción\n",
    "\n",
    "\"\"\"\n",
    "    output = call_gpt(prompt)\n",
    "    \n",
    "    return output\n",
    "    "
   ]
  },
  {
   "cell_type": "markdown",
   "metadata": {},
   "source": [
    "## 5. Resiliencia"
   ]
  },
  {
   "cell_type": "code",
   "execution_count": 48,
   "metadata": {},
   "outputs": [],
   "source": [
    "def evaluar_resiliencia(transcript) -> Tuple[int, str]:\n",
    "\n",
    "    prompt = f\"\"\"\n",
    "Analiza la siguiente transcripción y evalúa la RESILIENCIA del vendedor:\n",
    "\n",
    "**BUENA (5 puntos)**: Mantiene tono positivo y enérgico durante toda la llamada, se recupera rápidamente de objeciones, usa lenguaje constructivo y motivador. Mantiene energía constante incluso tras múltiples objeciones. Ejemplos: \"aprecio tu franqueza, permíteme explicarte\", mantiene energía constante incluso tras objeciones de precio.\n",
    "\n",
    "**MEDIA-BUENA (4 puntos)**: Mantiene tono positivo la mayor parte del tiempo, se recupera bien de objeciones, pero puede tener pequeñas fluctuaciones de energía.\n",
    "\n",
    "**MEDIA (3 puntos)**: El tono puede bajar ligeramente tras objeciones, pequeñas pausas o disminución de energía, pero se recupera y mantiene profesionalismo.\n",
    "\n",
    "**MEDIA-BAJA (2 puntos)**: Muestra signos de frustración o cansancio, el tono baja notablemente tras objeciones, pero aún intenta continuar.\n",
    "\n",
    "**BAJA (1 punto)**: Muestra frustración evidente, tono negativo o pasivo, se rinde fácilmente. Ejemplos: suspiros audibles, \"entiendo, si no te interesa no pasa nada\" con tono monótono.\n",
    "\n",
    "TRANSCRIPCIÓN:\n",
    "{transcript}\n",
    "\n",
    "Presta atención a:\n",
    "- ¿Mantiene un tono consistente durante toda la llamada?\n",
    "- ¿Cómo responde a objeciones o rechazos?\n",
    "- ¿Se detectan cambios de energía o frustración?\n",
    "- ¿Termina la llamada con próximos pasos o se rinde?\n",
    "\n",
    "Responde ÚNICAMENTE devolviendo:\n",
    "- puntuacion: 1, 2, 3, 4 o 5\n",
    "- justificacion: Explicación específica con ejemplos de la transcripción\n",
    "\"\"\"\n",
    "    output = call_gpt(prompt)\n",
    "    \n",
    "    return output\n",
    "\n",
    "    "
   ]
  },
  {
   "cell_type": "markdown",
   "metadata": {},
   "source": [
    "# Funcionalidad"
   ]
  },
  {
   "cell_type": "code",
   "execution_count": 49,
   "metadata": {},
   "outputs": [],
   "source": [
    "transcript_bueno = [\n",
    "    {\"speaker\": \"vendedor\", \"text\": \"Buenas tardes Juan, ¿cómo estás? Te llamo a ver para seguir con el tema de la reunión de la semana pasada. ¿Qué tal te ha ido este la semana? ¿Alguna novedad?\"},\n",
    "    {\"speaker\": \"cliente\", \"text\": \"Buenas tardes Pedro, pues la verdad es que bastante bien, gracias por preguntar. Y sí, justo pensaba en vuestra propuesta. La he estado revisando con mi equipo y tenemos algunas preguntas que me gustaría que me aclaraces para poder tomar una decisión.\"},\n",
    "    {\"speaker\": \"vendedor\", \"text\": \"Ah, perfecto. Ehm, de eso se trata. ¿Qué dudas tienes este, a ver en concreto? Y bueno, así las resolvemos ahora mismo. Estoy aquí para lo que necesites.\"},\n",
    "    {\"speaker\": \"cliente\", \"text\": \"Mira, la principal es sobre el coste. Entendemos que vuestros auriculares son de gama alta, pero el presupuesto que nos habéis pasado es un poco superior al que teníamos planeado. Necesito entender mejor, ¿eh?, por qué la inversión es tan elevada.\"},\n",
    "    {\"speaker\": \"vendedor\", \"text\": \"Entiendo perfectamente. Y bueno, el precio es un factor importante, claro. Y quiero que te sientas seguro con tu decisión. Pero, este, a ver, permíteme explicarte de nuevo lo que hace que nuestros auriculares sean diferentes y a la vez que justifique esa inversión. Verás, no solo estás comprando un producto. Este, estás adquiriendo una serie de ventajas que van a impactar directamente en la experiencia del usuario, en la reputación de vuestra marca y en el valor añadido que ofrecéis.\"},\n",
    "    {\"speaker\": \"cliente\", \"text\": \"¿A qué te refieres exactamente? ¿Puede ser un poco más específico con las ventajas?\"},\n",
    "    {\"speaker\": \"vendedor\", \"text\": \"A ver, como te comenté la semana pasada, una de las grandes diferencias es el volumen de escucha. Y bueno, es un detalle que a mi nudo se pasa por alto. Pero, este, a ver, es fundamental para la satisfacción del cliente. Nuestros auriculares, este, tienen un nivel de volumen que es un 20% más alto que la media del mercado, sin perder la calidad del sonido ni distorsiones. Esto es crucial para los clientes que busquen una experiencia inmersiva. Y este, y bueno, que necesitan un sonido claro en entornos ruidosos, como en el transporte público o en la caña. ¿Te imaginas a alguien intentando escuchar música en una cafetería ruidosa? Con nuestros auriculares, no tendría ningún problema.\"},\n",
    "    {\"speaker\": \"cliente\", \"text\": \"Eso sí que me parece interesante. No había considerado ese punto con tanta profundidad. Es verdad que muchos clientes se quejan de que el volumen máximo no es suficiente. ¿Qué otras cosas destacarías? Porque si bien ese punto es importante, necesito más argumentos para justificar el precio.\"},\n",
    "    {\"speaker\": \"vendedor\", \"text\": \"Pues mira, también está la resistencia al agua. Y este punto es revolucionario. Nuestros auriculares son subacuáticos. No solo son resistentes a salpicadura o al sudor. Este, a ver, sino que se pueden sumergir completamente a una profundidad de hasta un metro durante 30 minutos. Y bueno, esto abre un mercado completamente nuevo para vuestros clientes. Piensa en deportistas, nadadores, que quieren escuchar música mientras entrenan. Gente que hace ejercicio al aire libre bajo la lluvia. Y bueno, también usuarios que simplemente quieren la tranquilidad de saber que sus auriculares no se van a estropear si les cae un vaso de agua encima.\"},\n",
    "    {\"speaker\": \"cliente\", \"text\": \"Uff, eso es un valor añadido. No me digas más. Es una característica que nos diferenciaría completamente de la competencia. Y qué me dices de la batería? Siempre tengo un poco de miedo de que se descarguen en el momento más inoportuno. Es una de las quejas más comunes entre los usuarios de auriculares inalámbricos.\"},\n",
    "    {\"speaker\": \"vendedor\", \"text\": \"Y bueno, ese es otra gran ventaja, Juan. La duración de la batería. Nuestros auriculares ofrecen hasta 12 horas de reproducción continua con una sola carga. A ver, eso es casi el doble que la mayoría de nuestros competidores. Imagina un usuario que viaja en avión, por ejemplo, o que tiene un día largo en el trabajo. No tendría que preocuparse de cargar los auriculares a cada rato. Eso es un alivio para ellos y bueno, se traduce en una mejor experiencia de uso.\"},\n",
    "    {\"speaker\": \"cliente\", \"text\": \"La verdad, Pedro, es que ahora que lo dices así con más detalle, le veo mucho más sentido al precio. El volumen, la resistencia al agua y la duración de la batería son tres puntos muy fuertes. ¿Qué garantía ofrecen para el producto?\"},\n",
    "    {\"speaker\": \"vendedor\", \"text\": \"A ver, ofrecemos una garantía de dos años contra cualquier defecto de fabricación. Y bueno, también tenemos un servicio de atención al cliente, que está disponible 24-7 para cualquier problema que pueda surgir. Queremos que tanto vosotros como vuestros clientes estén completamente satisfechos con la compra.\"},\n",
    "    {\"speaker\": \"cliente\", \"text\": \"Eso me da mucha tranquilidad. Bien, entiendo el valor del producto. Ahora, volviendo al tema del precio, ¿hay alguna posibilidad de ajustar las condiciones de pago, ofrecen algún tipo de descuento por volumen? Si compramos una cantidad significativa, ¿claro?\"},\n",
    "    {\"speaker\": \"vendedor\", \"text\": \"Mmm... A ver, lo podemos negociar, claro. Y bueno, me gustaría entender mejor vuestras necesidades. ¿Qué cantidad de unidades estarías, este, a ver, pensando en adquirir inicialmente? Y con esa información podríamos buscar una opción que se ajuste a vuestras necesidades de presupuesto y de flujo de caja.\"},\n",
    "    {\"speaker\": \"cliente\", \"text\": \"¿Estaríamos pensando en un pedido inicial de unas 5.000 unidades? Es un número importante para nosotros.\"},\n",
    "    {\"speaker\": \"vendedor\", \"text\": \"5.000 unidades, ¿entendido? Y bueno, con un volumen así, definitivamente podríamos aplicar un descuento por volumen. Y a ver, también podríamos, este, revisar las condiciones de pago. ¿Qué tal si lo hablamos la semana que viene? Así, preparo una propuesta con esos ajustes.\"},\n",
    "    {\"speaker\": \"cliente\", \"text\": \"Me parece perfecto. Te llamo yo el martes por la mañana, ¿te parece bien?\"},\n",
    "    {\"speaker\": \"vendedor\", \"text\": \"Sí, claro. Quedamos así entonces. Y bueno, un placer hablar contigo, Juan. Espero que esta nueva información te ayude a tomar la mejor decisión.\"},\n",
    "    {\"speaker\": \"cliente\", \"text\": \"Igualmente, Pedro. Y gracias por la paciencia y por aclarar todas mis dudas. Hasta el martes.\"}\n",
    "]\n",
    "transcript_cortante = [\n",
    "    {\"speaker\": \"vendedor\", \"text\": \"Buenas tardes Juan, ¿qué tal? ¿Cómo estás? Te llamo a ver para seguir con el tema de la reunión de la semana pasada, que... quedamos en que te llamaría para ver qué te había parecido la propuesta. ¿Qué tal te ha ido la semana? ¿Alguna novedad? Me imagino que sí, claro. Y bueno, supongo que habrás visto los auriculares y todo lo que te mandé, ¿verdad? Y este... a ver, quiero saber qué opinas, porque la verdad es que estamos muy contentos con el producto que tenemos entre manos y bueno, creemos que tiene un potencial increíble para vuestra marca. Ya te comenté que la experiencia de usuario que ofrecemos es superior a todo lo que hay en el mercado, este... a ver, en cuanto a calidad y prestaciones. Y... ¿y bueno, qué me dices?\"},\n",
    "    {\"speaker\": \"cliente\", \"text\": \"Buenas tardes Pedro. Pues la verdad es que...\"},\n",
    "    {\"speaker\": \"vendedor\", \"text\": \"Sí, claro, dime, dime, te escucho. Seguro que tienes alguna pregunta sobre el coste, ¿verdad? A ver, es lo más habitual, porque entiendo que el precio puede parecer un poco elevado a primera vista, pero... y bueno, como te dije, es una inversión que realmente merece la pena. No estamos hablando de unos auriculares más. A ver, estamos hablando de un producto de muy alta gama, con unas características que no vas a encontrar en ningún otro sitio. Me imagino que, este, a ver, lo habrás pensado y... y bueno, seguro que tienes alguna duda concreta. Yo, la verdad, estoy convencido de que os va a encantar. Y bueno, de que vuestros clientes van a estar fascinados con la calidad del sonido, que es, este, a ver, es espectacular.\"},\n",
    "    {\"speaker\": \"cliente\", \"text\": \"Sí, de hecho el precio...\"},\n",
    "    {\"speaker\": \"vendedor\", \"text\": \"Claro, el precio. Y bueno, déjame que te recuerde los puntos clave. A ver, la gran diferencia es el volumen de escucha. Te lo comenté, pero, este, a ver, quiero que te quede claro. Tenemos un 20% más de volumen que la competencia. Es, este, a ver, es una barbaridad. Y bueno, eso permite que el usuario escuche su música, sus podcasts, lo que sea. Este, a ver, en cualquier entorno, sin que le moleste el ruido de fuera. Y sin perder, este, a ver, ni una pise de calidad. Y bueno, eso es una ventaja competitiva muy importante que, este, a ver, os va a diferenciar mucho. Además, este, a ver, si ves cómo está el mercado ahora, todo mundo busca algo que le haga destacar. Y bueno, la calidad de nuestros auriculares es, a ver, es inigualable. Y bueno, es un valor seguro para vosotros. Además, este, a ver, también está el tema de la resistencia al agua. Nuestros auriculares son subacuáticos. Sí, sí, como lo oyes, se pueden sumergir. Y bueno, esto es una maravilla para, a ver, para los deportistas. Y para la gente que vive en zonas con mucha lluvia. Y bueno, para, este, a ver, para cualquier persona que, que quiera que tenga la tranquilidad de que sus auriculares no se van a estropear con este, con un poco de agua. Y bueno, la batería también es un, este, a ver, un punto muy fuerte. Tenemos 12 horas de duración. Eso es el doble de la media. O sea, este, a ver, es que no hay comparación. Es, a ver, la mejor opción del mercado. Y bueno, ¿qué te parece? ¿Verdad que es increíble?\"},\n",
    "    {\"speaker\": \"cliente\", \"text\": \"Sí, la verdad me parece muy bien. Pero tengo una pregunta sobre el...\"},\n",
    "    {\"speaker\": \"vendedor\", \"text\": \"Seguro que sobre las condiciones de pago. Y este, a ver, no te preocupas por eso, lo podemos negociar. Y bueno, estamos abiertos a, este, hablar de los plazos y de los, a ver, de los volúmenes de compra. Sí, este, a ver, si te interesa un pedido grande, podemos, este, a ver, hacer un descuento especial. Y bueno, la idea es que todos salgamos ganando. Y bueno, ¿qué te parece? ¿Verdad que es una propuesta muy, este, muy atractiva? Ya te digo, ¿eh? Con un pedido grande, podríamos, este, a ver, ofrecer un precio por unidad que se ajuste más a vuestro presupuesto inicial. Y bueno, te aseguro que, este, la calidad del producto y, a ver, la satisfacción del cliente compensa, eh, con creces esa inversión. Y, y bueno, además, este, a ver, la marca de auriculares que ofreces dice mucho de ti. Y bueno, ofrecer unos auriculares con estas prestaciones es, a ver, es proyectar una imagen de marca de, de alta calidad y, este, de innovación.\"},\n",
    "    {\"speaker\": \"cliente\", \"text\": \"Sí\"},\n",
    "    {\"speaker\": \"vendedor\", \"text\": \" Me alegro de que lo vías así. Y bueno, mira, para no, eh, para no alargarnos más, ¿qué te parece si te envió la propuesta de nuevo? Pero, este, a ver, con un pequeño resumen de las ventajas competitivas, este, a ver, en Negrita, para que se lo puedas enseñar a tu equipo y, y bueno, que vean que la inversión está más que justificada. Y este, a ver, te aseguro que no os vais a arrepentir. Y, y bueno, podríamos, eh, concertar una reunión con tu equipo si quieres, para, este, a ver, para resolver cualquier duda que tengan. Y, y bueno, si lo ven con más detalle.\"},\n",
    "    {\"speaker\": \"cliente\", \"text\": \"Me parece bien, pero me gustaría...\"}, \n",
    "    {\"speaker\": \"vendedor\", \"text\": \"Perfecto, Juan. Y bueno, quedemos así. Te lo envío ahora mismo y, este, a ver, me llama si tienes alguna otra pregunta y, bueno, hablamos la semana que viene para cerrar los, los detalles. Y este, a ver, seguro que todo sale bien. Y, y bueno, un placer.\"},\n",
    "    {\"speaker\": \"cliente\", \"text\": \"Igualmente, Pedro. Hasta el martes.\"}\n",
    "]"
   ]
  },
  {
   "cell_type": "code",
   "execution_count": 50,
   "metadata": {},
   "outputs": [],
   "source": [
    "vendedor_bueno = [\n",
    "    evaluar_prospeccion(transcript_bueno), \n",
    "    evaluar_empatia(transcript_bueno), \n",
    "    evaluar_dominio_tecnico(transcript_bueno),\n",
    "    evaluar_negociacion(transcript_bueno),\n",
    "    evaluar_resiliencia(transcript_bueno)\n",
    "]"
   ]
  },
  {
   "cell_type": "code",
   "execution_count": 51,
   "metadata": {},
   "outputs": [
    {
     "data": {
      "text/plain": [
       "['puntuacion: 3\\njustificacion: No se identifica investigación previa específica sobre el cliente o la empresa (no se mencionan publicaciones, hitos, o líderes clave; se limita a hacer referencia a la \"reunión de la semana pasada\" y a la propuesta). El vendedor realiza preguntas de descubrimiento, pero de alcance general y poco personalizadas (ejemplos: \"¿Qué dudas tienes...?\", \"¿Qué cantidad de unidades estarías pensando en adquirir inicialmente?\"). El pitch se desarrolla basándose en características del producto (volumen de escucha, resistencia al agua, duración de batería) sin conectar claramente con el contexto o necesidades específicas del cliente. Se intenta adaptar el precio con condiciones de pago y descuento por volumen (habla de 5.000 unidades), pero aún mantiene un enfoque orientado a la oferta más que a una personalización profunda.',\n",
       " 'puntuacion: 4\\n\\njustificacion: \\n- No interrumpe al cliente: el vendedor responde tras las preguntas del cliente y utiliza frases como \"¿Qué dudas tienes este, a ver en concreto? Y bueno, así las resolvemos ahora mismo.\" manteniendo el flujo y evitando cortes.\\n- Valida las preocupaciones antes de responder: reconoce explícitamente la importancia del precio con \"Entiendo perfectamente. Y bueno, el precio es un factor importante, claro. Y quiero que te sientas seguro con tu decisión.\" y continúa explicando para justificar la inversión.\\n- Usa lenguaje empático y de comprensión: emplea expresiones como \"Estoy aquí para lo que necesites\", \"quiero que te sientas seguro con tu decisión\" y \"un placer hablar contigo\" para establecer conexión y apoyo.\\n- Parafraseo/representación emocional: la validación y conexión emocional están presentes, pero hay menos parafraseo directo de lo que dijo el cliente (no se repite literalmente sus palabras; más bien se redirige al valor del producto y a las preocupaciones de presupuesto). Se centra en reformular el valor y responder a las inquietudes del cliente.\\n- Aunque hay momentos de explicación de producto y beneficios, la conversación mantiene el foco en las preocupaciones del cliente (coste, condiciones de pago) y propone soluciones (descuento por volumen, condiciones de pago). Esto refuerza la empatía al alinear la propuesta con las necesidades del cliente.',\n",
       " 'puntuacion: 5\\njustificacion: El vendedor demuestra dominio técnico y capacidad para traducir características en beneficios claros. Usa datos concretos y métricas: (1) volumen 20% más alto que la media, con beneficio de experiencia inmersiva y claridad en entornos ruidosos; (2) resistencia al agua: certifica uso subacuático, 1 metro de profundidad por 30 minutos, abriendo mercados para deportistas y uso en lluvia; (3) batería de hasta 12 horas, con nota de que es casi el doble que la competencia, conectando con viajes largos y jornadas completas; (4) afirma que el volumen no sacrifica calidad ni distorsión; (5) ofrece garantía de 2 años y servicio 24/7. Además, responde con seguridad a preguntas sobre valor y precio, proponiendo descuentos por volumen y pidiendo la cantidad para adaptar la propuesta.',\n",
       " 'puntuacion: 5\\njustificacion: El vendedor maneja las objeciones de forma efectiva y estructurada. Primero reconoce la preocupación de precio y enmarca la compra como una inversión con valor agregado: mejora de la experiencia del usuario, reputación de la marca y valor añadido (respuesta inicial: “no solo estás comprando un producto… ventajas que van a impactar directamente en la experiencia del usuario, en la reputación de vuestra marca y en el valor añadido”). Luego aporta argumentos concretos y medibles para justificar el valor: volumen de escucha 20% por encima de la media, resistencia al agua subacuática (hasta 1 metro durante 30 minutos) y duración de la batería de 12 horas, mostrando beneficios claros frente a la competencia; y garantía de dos años con atención 24/7. Ante la objeción de precio, no cede sin antes discutir condiciones de compra: ofrece descuento por volumen (5.000 unidades) y revisión de las condiciones de pago, proponiendo una próxima llamada para presentar una propuesta ajustada. Proporciona próximos pasos claros y concretos: preparar una propuesta con ajustes, hablar la semana siguiente, y confirmar fecha de llamada (martes por la mañana). En conjunto, maneja múltiples objeciones de forma constructiva, justifica el valor con argumentos sólidos y propone pasos siguientes específicos.',\n",
       " 'puntuacion: 5\\njustificacion: La llamada mantiene un tono positivo y enérgico a lo largo de toda la conversación, desde el saludo inicial hasta el cierre. El vendedor responde a objeciones de precio con empatía y foco en el valor: “Entiendo perfectamente… permíteme explicarte de nuevo lo que hace que nuestros auriculares sean diferentes” y continúa detallando beneficios (volumen de escucha, resistencia al agua, duración de la batería) para justificar la inversión. Ante preguntas sobre descuentos por volumen, propone opciones y fija próximos pasos: “lo podemos negociar, claro… ¿qué cantidad…?” y luego acuerdan una próxima llamada: “Te llamo yo el martes por la mañana” y “Me parece perfecto. Quedamos así”. No se observan caídas de energía ni señales de frustración; incluso cuando se discute precio, mantiene un enfoque constructivo y orientado a cerrar. En resumen, la resiliencia es alta: brillo sostenido, respuesta eficaz a objeciones y cierre con próximos pasos claros.']"
      ]
     },
     "execution_count": 51,
     "metadata": {},
     "output_type": "execute_result"
    }
   ],
   "source": [
    "vendedor_bueno"
   ]
  },
  {
   "cell_type": "code",
   "execution_count": 52,
   "metadata": {},
   "outputs": [],
   "source": [
    "vendedor_malo = [\n",
    "    evaluar_prospeccion(transcript_cortante), \n",
    "    evaluar_empatia(transcript_cortante), \n",
    "    evaluar_dominio_tecnico(transcript_cortante),\n",
    "    evaluar_negociacion(transcript_cortante),\n",
    "    evaluar_resiliencia(transcript_cortante)\n",
    "]"
   ]
  },
  {
   "cell_type": "code",
   "execution_count": 40,
   "metadata": {},
   "outputs": [
    {
     "data": {
      "text/plain": [
       "['puntuacion: 1\\njustificacion: No hay evidencia de investigación específica sobre el cliente o su empresa (no cita datos de LinkedIn, artículos, eventos, ascensos o situación particular). Solo menciona la reunión previa y la propuesta sin contexto detallado: “seguimos con el tema de la reunión de la semana pasada… qué te había parecido la propuesta.” El enfoque es principalmente de producto y precio, no de descubrimiento de necesidades del cliente: se destacan características como “experiencia de usuario superior”, “12 horas de duración”, “auriculares subacuáticos”, pero sin vincularlas a retos o casos de uso del cliente. Las preguntas de descubrimiento son genéricas o enfocadas en precio, por ejemplo: “Seguro que tienes alguna pregunta sobre el coste” y no se indagan necesidades reales, retos o soluciones actuales del cliente. Además, propone enviar la propuesta y planificar una reunión para resolver dudas sin haber explorado requisitos específicos: “¿te envío la propuesta… con un pequeño resumen… para que se lo puedas enseñar a tu equipo” y “podríamos concertar una reunión con tu equipo.” Todos estos elementos apuntan a una prospección de ALTA velocidad hacia el pitch, sin etapa de descubrimiento personalizada.',\n",
       " 'puntuacion: 2\\njustificacion: \\n- Se observan señales de empatía y validación, pero de forma genérica. Ejemplos: \"Sí, claro, dime, dime, te escucho\" (invita a expresar) y \"entiendo que el precio puede parecer un poco elevado a primera vista\" (validación de la preocupación). \\n- El vendedor también tranquiliza cuando dice \"no te preocupes por eso, lo podemos negociar\" (ofrece solución ante la objeción de precio).\\n- Demuestra buena escucha inicial y enfoque en el beneficio (\"me imagino que habrás visto los auriculares...\"), y utiliza frases de apoyo como \"Me alegro de que lo vías así\".\\n- Falta un mayor uso de lenguaje empático explícito y parafraseo completo de lo dicho por el cliente (no hay, por ejemplo, frases como \"te entiendo perfectamente\" o \"si te entiendo bien...\"), por lo que la empatía no alcanza el nivel ALTA.',\n",
       " 'puntuacion: 3\\njustificacion: \\n- Conoce características técnicas: menciona batería de 12 horas, resistencia al agua y posibilidad de sumergirse, y afirma una diferencia de 20% en volumen frente a la competencia.\\n- Conecta características con beneficios: \\n  - 12 horas de duración se presenta como ventaja (doble de la media) para uso continuo. \\n  - 20% más de volumen permite escuchar sin molestia en cualquier entorno y mantiene la calidad, lo que se traduce en una mejor experiencia del usuario.\\n  - Resistencia al agua y uso para deportistas o zonas de lluvia se vinculan a mayor durabilidad y tranquilidad para el cliente.\\n  - Muestra impacto en la marca del cliente al proponer una imagen de alta calidad e innovación.\\n- Responde con confianza a lo técnico: usa afirmaciones decididas como \"es espectacular\", \"es la mejor opción del mercado\", y cifras específicas (\"12 horas\", \"20% más de volumen\"), reforzando la credibilidad. En una ocasión desvía hacia condiciones de pago cuando la pregunta parece técnica, pero mantiene un tono seguro y orientado a cerrar el negocio.',\n",
       " 'puntuacion: 3\\njustificacion: El vendedor maneja objeciones justificando el valor y es firme pero flexible en condiciones. Ejemplos de valor: “no estamos hablando de unos auriculares más… estamos hablando de un producto de muy alta gama, con unas características que no vas a encontrar en ningún otro sitio” y ve fortalecedores como “20% más de volumen” y “resistencia al agua… subacuáticos” y “la batería son 12 horas” para destacar diferenciadores y justificar la inversión. En cuanto a flexibilidad, propone ajustes de condiciones: “podemos negociar las condiciones de pago” y “si te interesa un pedido grande, podemos hacer un descuento especial” y añade próximos pasos claros: “te envío la propuesta de nuevo” con resumen en negrita para el equipo y “podríamos concertar una reunión con tu equipo… para resolver cualquier duda” además de acordar un cierre: “hablamos la semana que viene para cerrar los detalles.”',\n",
       " 'puntuacion: 3\\njustificacion: tono positivo, recuperación ante objeciones de precio; propone próximos pasos.']"
      ]
     },
     "execution_count": 40,
     "metadata": {},
     "output_type": "execute_result"
    }
   ],
   "source": [
    "vendedor_malo"
   ]
  }
 ],
 "metadata": {
  "kernelspec": {
   "display_name": "speech-to-text-backend-2J9T7oHW-py3.13",
   "language": "python",
   "name": "python3"
  },
  "language_info": {
   "codemirror_mode": {
    "name": "ipython",
    "version": 3
   },
   "file_extension": ".py",
   "mimetype": "text/x-python",
   "name": "python",
   "nbconvert_exporter": "python",
   "pygments_lexer": "ipython3",
   "version": "3.13.5"
  }
 },
 "nbformat": 4,
 "nbformat_minor": 2
}
