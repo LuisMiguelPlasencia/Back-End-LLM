{
 "cells": [
  {
   "cell_type": "markdown",
   "metadata": {},
   "source": [
    "# KPIs Perfil"
   ]
  },
  {
   "cell_type": "code",
   "execution_count": 8,
   "metadata": {},
   "outputs": [],
   "source": [
    "import re \n",
    "import subprocess\n",
    "import json\n",
    "from typing import List, Dict, Tuple"
   ]
  },
  {
   "cell_type": "code",
   "execution_count": 4,
   "metadata": {},
   "outputs": [],
   "source": [
    "def extraer_texto_vendedor(transcript: List[Dict[str, str]]) -> str:\n",
    "    \"\"\"Extrae todo el texto del vendedor de la transcripción\"\"\"\n",
    "    return \" \".join([entry[\"text\"] for entry in transcript if entry[\"speaker\"] == \"vendedor\"])"
   ]
  },
  {
   "cell_type": "markdown",
   "metadata": {},
   "source": [
    "## 1. Prospección"
   ]
  },
  {
   "cell_type": "code",
   "execution_count": 23,
   "metadata": {},
   "outputs": [],
   "source": [
    "def evaluar_prospeccion(transcript, llm) -> Tuple[int, str]:\n",
    "  \n",
    "    prompt = f\"\"\"\n",
    "Analiza la siguiente transcripción de una llamada de ventas y evalúa la PROSPECCIÓN del vendedor según esta rúbrica:\n",
    "\n",
    "**ALTA (3 puntos)**: El vendedor muestra investigación previa específica sobre el cliente, empresa o situación. Ejemplos: menciona LinkedIn, artículos publicados, eventos recientes, ascensos, situación específica de la empresa.\n",
    "\n",
    "**MEDIA (2 puntos)**: El vendedor hace preguntas generales de descubrimiento sin personalización. Ejemplos: \"cuéntame sobre tu empresa\", \"qué retos enfrentan\", \"qué soluciones usan\".\n",
    "\n",
    "**BAJA (1 punto)**: El vendedor va directo al pitch sin fase de descubrimiento. Ejemplos: \"te llamo para presentar nuestro producto\", \"permíteme explicarte las ventajas\".\n",
    "\n",
    "TRANSCRIPCIÓN:\n",
    "{transcript}\n",
    "\n",
    "Responde ÚNICAMENTE en formato JSON:\n",
    "{{\n",
    "    \"puntuacion\": [1, 2, o 3],\n",
    "    \"justificacion\": \"Explicación específica con ejemplos de la transcripción\"\n",
    "}}\n",
    "\"\"\"\n",
    "    result = subprocess.run(\n",
    "        ['ollama', 'run', f'{llm}'],\n",
    "        input=prompt.encode(),\n",
    "        capture_output=True\n",
    "    )\n",
    "    try: \n",
    "        output = json.loads(result.stdout.decode())\n",
    "        return output[\"puntuacion\"], output[\"justificacion\"]\n",
    "    except:\n",
    "        return 2, \"Error al procesar respuesta del LLM\"\n",
    "    "
   ]
  },
  {
   "cell_type": "markdown",
   "metadata": {},
   "source": [
    "## 2. Empatía"
   ]
  },
  {
   "cell_type": "code",
   "execution_count": 42,
   "metadata": {},
   "outputs": [],
   "source": [
    "def evaluar_empatia(transcript, llm) -> Tuple[int, str]:\n",
    "  \n",
    "    prompt = f\"\"\"\n",
    "Analiza la siguiente transcripción y evalúa la EMPATÍA del vendedor:\n",
    "\n",
    "**ALTA (3 puntos)**: Valida activamente emociones del cliente, demuestra escucha genuina, parafrasea lo dicho, usa frases como \"entiendo perfectamente tu preocupación\", \"si te entiendo bien\", \"te agradezco que seas sincero\".\n",
    "\n",
    "**MEDIA (2 puntos)**: Validación genérica o superficial. Respuestas como \"ok, entiendo\", \"claro\", \"sí, es importante\" pero sin profundizar.\n",
    "\n",
    "**BAJA (1 punto)**: Ignora preocupaciones, interrumpe frecuentemente, descarta objeciones con frases como \"el precio no es problema\", \"sí, pero déjame decirte\", \"volviendo al tema\".\n",
    "\n",
    "\n",
    "TRANSCRIPCIÓN:\n",
    "{transcript}\n",
    "\n",
    "Presta especial atención a:\n",
    "- ¿El vendedor interrumpe al cliente?\n",
    "- ¿Valida las preocupaciones antes de responder?\n",
    "- ¿Usa un lenguaje empático y de comprensión?\n",
    "\n",
    "Responde ÚNICAMENTE en formato JSON:\n",
    "{{\n",
    "    \"puntuacion\": [1, 2, o 3],\n",
    "    \"justificacion\": \"Explicación específica con ejemplos de la transcripción\"\n",
    "}}\n",
    "\"\"\"\n",
    "    result = subprocess.run(\n",
    "        ['ollama', 'run', f'{llm}'],\n",
    "        input=prompt.encode(),\n",
    "        capture_output=True\n",
    "    )\n",
    "    \n",
    "    return result.stdout.decode()\n",
    "    "
   ]
  },
  {
   "cell_type": "markdown",
   "metadata": {},
   "source": [
    "## 3. Dominio técnico"
   ]
  },
  {
   "cell_type": "code",
   "execution_count": 21,
   "metadata": {},
   "outputs": [],
   "source": [
    "def evaluar_dominio_tecnico(transcript, llm) -> Tuple[int, str]:\n",
    "  \n",
    "    prompt = f\"\"\"\n",
    "Analiza la siguiente transcripción y evalúa el DOMINIO TÉCNICO del vendedor:\n",
    "\n",
    "**ALTA (3 puntos)**: Traduce características técnicas en beneficios específicos para el cliente. Ejemplos: \"nuestra batería dura 12 horas, lo que significa que tus clientes no tendrán que recargarla\", \"la tecnología X reduce el procesamiento en 30%, permitiéndote ahorrar costes\".\n",
    "\n",
    "**MEDIA (2 puntos)**: Menciona características del producto pero sin conectarlas claramente con beneficios. Ejemplos: \"tiene batería de 12 horas\", \"es resistente al agua\", \"utiliza tecnología X\".\n",
    "\n",
    "**BAJA (1 punto)**: No menciona características específicas o no puede responder preguntas técnicas. Ejemplos: \"es muy bueno\", \"funciona bien\", \"déjame preguntar a mi superior\".\n",
    "\n",
    "TRANSCRIPCIÓN:\n",
    "{transcript}\n",
    "\n",
    "Evalúa si el vendedor:\n",
    "- Conoce las características técnicas del producto\n",
    "- Las conecta con beneficios específicos\n",
    "- Responde con confianza a preguntas técnicas\n",
    "\n",
    "Responde ÚNICAMENTE en formato JSON:\n",
    "{{\n",
    "    \"puntuacion\": [1, 2, o 3],\n",
    "    \"justificacion\": \"Explicación específica con ejemplos de la transcripción\"\n",
    "}}\n",
    "\"\"\"\n",
    "    result = subprocess.run(\n",
    "        ['ollama', 'run', f'{llm}'],\n",
    "        input=prompt.encode(),\n",
    "        capture_output=True\n",
    "    )\n",
    "    try: \n",
    "        output = json.loads(result.stdout.decode())\n",
    "        return output[\"puntuacion\"], output[\"justificacion\"]\n",
    "    except:\n",
    "        return 2, \"Error al procesar respuesta del LLM\"\n",
    "    "
   ]
  },
  {
   "cell_type": "markdown",
   "metadata": {},
   "source": [
    "## 4. Negociación"
   ]
  },
  {
   "cell_type": "code",
   "execution_count": 20,
   "metadata": {},
   "outputs": [],
   "source": [
    "def evaluar_negociacion(transcript, llm) -> Tuple[int, str]:\n",
    "  \n",
    "    prompt = f\"\"\"\n",
    "Analiza la siguiente transcripción y evalúa la NEGOCIACIÓN del vendedor:\n",
    "\n",
    "**ALTA (3 puntos)**: Aborda objeciones justificando el valor, es firme pero flexible en condiciones, propone próximos pasos claros. Ejemplos: \"entiendo que el precio es superior, pero es una inversión que se justifica por el ahorro\", \"podríamos ajustar las condiciones de pago\", \"el siguiente paso sería programar una demo\".\n",
    "\n",
    "**MEDIA (2 puntos)**: Evita objeciones o cede demasiado pronto, ofrece descuentos sin que se los pidan. Ejemplos: \"el precio es negociable\", \"te mando la propuesta otra vez\", \"veo si puedo ofrecerte descuento\".\n",
    "\n",
    "**BAJA (1 punto)**: Se rinde ante la primera objeción, no intenta cerrar, deja decisión en manos del cliente. Ejemplos: \"avísame si te interesa\", \"llámame si te decides\", \"no te preocupes, lo entiendo\".\n",
    "\n",
    "TRANSCRIPCIÓN:\n",
    "{transcript}\n",
    "\n",
    "Evalúa:\n",
    "- ¿Cómo maneja las objeciones?\n",
    "- ¿Justifica el valor o solo ofrece descuentos?\n",
    "- ¿Propone próximos pasos concretos?\n",
    "\n",
    "Responde ÚNICAMENTE en formato JSON:\n",
    "{{\n",
    "    \"puntuacion\": [1, 2, o 3],\n",
    "    \"justificacion\": \"Explicación específica con ejemplos de la transcripción\"\n",
    "}}\n",
    "\"\"\"\n",
    "    result = subprocess.run(\n",
    "        ['ollama', 'run', f'{llm}'],\n",
    "        input=prompt.encode(),\n",
    "        capture_output=True\n",
    "    )\n",
    "    try: \n",
    "        output = json.loads(result.stdout.decode())\n",
    "        return output[\"puntuacion\"], output[\"justificacion\"]\n",
    "    except:\n",
    "        return 2, \"Error al procesar respuesta del LLM\"\n",
    "    "
   ]
  },
  {
   "cell_type": "markdown",
   "metadata": {},
   "source": [
    "## 5. Resiliencia"
   ]
  },
  {
   "cell_type": "code",
   "execution_count": 36,
   "metadata": {},
   "outputs": [],
   "source": [
    "def evaluar_resiliencia(transcript, llm) -> Tuple[int, str]:\n",
    "\n",
    "    prompt = f\"\"\"\n",
    "Analiza la siguiente transcripción y evalúa la RESILIENCIA del vendedor:\n",
    "\n",
    "**ALTA (3 puntos)**: Mantiene tono positivo y enérgico durante toda la llamada, se recupera rápidamente de objeciones, usa lenguaje constructivo. Ejemplos: \"aprecio tu franqueza, permíteme explicarte\", mantiene energía constante incluso tras objeciones de precio.\n",
    "\n",
    "**MEDIA (2 puntos)**: El tono puede bajar ligeramente tras objeciones, pequeñas pausas o disminución de energía, pero se recupera.\n",
    "\n",
    "**BAJA (1 punto)**: Muestra frustración, tono negativo o pasivo, se rinde fácilmente. Ejemplos: suspiros audibles, \"entiendo, si no te interesa no pasa nada\" con tono monótono.\n",
    "\n",
    "TRANSCRIPCIÓN:\n",
    "{transcript}\n",
    "\n",
    "Presta atención a:\n",
    "- ¿Mantiene un tono consistente durante toda la llamada?\n",
    "- ¿Cómo responde a objeciones o rechazos?\n",
    "- ¿Se detectan cambios de energía o frustración?\n",
    "- ¿Termina la llamada con próximos pasos o se rinde?\n",
    "\n",
    "Responde ÚNICAMENTE devolviendo:\n",
    "- puntuacion: 1, 2 o 3\n",
    "- justificacion: Explicación específica con ejemplos de la transcripción\n",
    "\"\"\"\n",
    "    result = subprocess.run(\n",
    "        ['ollama', 'run', f'{llm}'],\n",
    "        input=prompt.encode(),\n",
    "        capture_output=True\n",
    "    )\n",
    "    \n",
    "    return result.stdout.decode()\n",
    "\n",
    "    "
   ]
  },
  {
   "cell_type": "markdown",
   "metadata": {},
   "source": [
    "# Funcionalidad"
   ]
  },
  {
   "cell_type": "code",
   "execution_count": 44,
   "metadata": {},
   "outputs": [],
   "source": [
    "transcript_bueno = [\n",
    "    {\"speaker\": \"vendedor\", \"text\": \"Buenas tardes Juan, ¿cómo estás? Te llamo a ver para seguir con el tema de la reunión de la semana pasada. ¿Qué tal te ha ido este la semana? ¿Alguna novedad?\"},\n",
    "    {\"speaker\": \"cliente\", \"text\": \"Buenas tardes Pedro, pues la verdad es que bastante bien, gracias por preguntar. Y sí, justo pensaba en vuestra propuesta. La he estado revisando con mi equipo y tenemos algunas preguntas que me gustaría que me aclaraces para poder tomar una decisión.\"},\n",
    "    {\"speaker\": \"vendedor\", \"text\": \"Ah, perfecto. Ehm, de eso se trata. ¿Qué dudas tienes este, a ver en concreto? Y bueno, así las resolvemos ahora mismo. Estoy aquí para lo que necesites.\"},\n",
    "    {\"speaker\": \"cliente\", \"text\": \"Mira, la principal es sobre el coste. Entendemos que vuestros auriculares son de gama alta, pero el presupuesto que nos habéis pasado es un poco superior al que teníamos planeado. Necesito entender mejor, ¿eh?, por qué la inversión es tan elevada.\"},\n",
    "    {\"speaker\": \"vendedor\", \"text\": \"Entiendo perfectamente. Y bueno, el precio es un factor importante, claro. Y quiero que te sientas seguro con tu decisión. Pero, este, a ver, permíteme explicarte de nuevo lo que hace que nuestros auriculares sean diferentes y a la vez que justifique esa inversión. Verás, no solo estás comprando un producto. Este, estás adquiriendo una serie de ventajas que van a impactar directamente en la experiencia del usuario, en la reputación de vuestra marca y en el valor añadido que ofrecéis.\"},\n",
    "    {\"speaker\": \"cliente\", \"text\": \"¿A qué te refieres exactamente? ¿Puede ser un poco más específico con las ventajas?\"},\n",
    "    {\"speaker\": \"vendedor\", \"text\": \"A ver, como te comenté la semana pasada, una de las grandes diferencias es el volumen de escucha. Y bueno, es un detalle que a mi nudo se pasa por alto. Pero, este, a ver, es fundamental para la satisfacción del cliente. Nuestros auriculares, este, tienen un nivel de volumen que es un 20% más alto que la media del mercado, sin perder la calidad del sonido ni distorsiones. Esto es crucial para los clientes que busquen una experiencia inmersiva. Y este, y bueno, que necesitan un sonido claro en entornos ruidosos, como en el transporte público o en la caña. ¿Te imaginas a alguien intentando escuchar música en una cafetería ruidosa? Con nuestros auriculares, no tendría ningún problema.\"},\n",
    "    {\"speaker\": \"cliente\", \"text\": \"Eso sí que me parece interesante. No había considerado ese punto con tanta profundidad. Es verdad que muchos clientes se quejan de que el volumen máximo no es suficiente. ¿Qué otras cosas destacarías? Porque si bien ese punto es importante, necesito más argumentos para justificar el precio.\"},\n",
    "    {\"speaker\": \"vendedor\", \"text\": \"Pues mira, también está la resistencia al agua. Y este punto es revolucionario. Nuestros auriculares son subacuáticos. No solo son resistentes a salpicadura o al sudor. Este, a ver, sino que se pueden sumergir completamente a una profundidad de hasta un metro durante 30 minutos. Y bueno, esto abre un mercado completamente nuevo para vuestros clientes. Piensa en deportistas, nadadores, que quieren escuchar música mientras entrenan. Gente que hace ejercicio al aire libre bajo la lluvia. Y bueno, también usuarios que simplemente quieren la tranquilidad de saber que sus auriculares no se van a estropear si les cae un vaso de agua encima.\"},\n",
    "    {\"speaker\": \"cliente\", \"text\": \"Uff, eso es un valor añadido. No me digas más. Es una característica que nos diferenciaría completamente de la competencia. Y qué me dices de la batería? Siempre tengo un poco de miedo de que se descarguen en el momento más inoportuno. Es una de las quejas más comunes entre los usuarios de auriculares inalámbricos.\"},\n",
    "    {\"speaker\": \"vendedor\", \"text\": \"Y bueno, ese es otra gran ventaja, Juan. La duración de la batería. Nuestros auriculares ofrecen hasta 12 horas de reproducción continua con una sola carga. A ver, eso es casi el doble que la mayoría de nuestros competidores. Imagina un usuario que viaja en avión, por ejemplo, o que tiene un día largo en el trabajo. No tendría que preocuparse de cargar los auriculares a cada rato. Eso es un alivio para ellos y bueno, se traduce en una mejor experiencia de uso.\"},\n",
    "    {\"speaker\": \"cliente\", \"text\": \"La verdad, Pedro, es que ahora que lo dices así con más detalle, le veo mucho más sentido al precio. El volumen, la resistencia al agua y la duración de la batería son tres puntos muy fuertes. ¿Qué garantía ofrecen para el producto?\"},\n",
    "    {\"speaker\": \"vendedor\", \"text\": \"A ver, ofrecemos una garantía de dos años contra cualquier defecto de fabricación. Y bueno, también tenemos un servicio de atención al cliente, que está disponible 24-7 para cualquier problema que pueda surgir. Queremos que tanto vosotros como vuestros clientes estén completamente satisfechos con la compra.\"},\n",
    "    {\"speaker\": \"cliente\", \"text\": \"Eso me da mucha tranquilidad. Bien, entiendo el valor del producto. Ahora, volviendo al tema del precio, ¿hay alguna posibilidad de ajustar las condiciones de pago, ofrecen algún tipo de descuento por volumen? Si compramos una cantidad significativa, ¿claro?\"},\n",
    "    {\"speaker\": \"vendedor\", \"text\": \"Mmm... A ver, lo podemos negociar, claro. Y bueno, me gustaría entender mejor vuestras necesidades. ¿Qué cantidad de unidades estarías, este, a ver, pensando en adquirir inicialmente? Y con esa información podríamos buscar una opción que se ajuste a vuestras necesidades de presupuesto y de flujo de caja.\"},\n",
    "    {\"speaker\": \"cliente\", \"text\": \"¿Estaríamos pensando en un pedido inicial de unas 5.000 unidades? Es un número importante para nosotros.\"},\n",
    "    {\"speaker\": \"vendedor\", \"text\": \"5.000 unidades, ¿entendido? Y bueno, con un volumen así, definitivamente podríamos aplicar un descuento por volumen. Y a ver, también podríamos, este, revisar las condiciones de pago. ¿Qué tal si lo hablamos la semana que viene? Así, preparo una propuesta con esos ajustes.\"},\n",
    "    {\"speaker\": \"cliente\", \"text\": \"Me parece perfecto. Te llamo yo el martes por la mañana, ¿te parece bien?\"},\n",
    "    {\"speaker\": \"vendedor\", \"text\": \"Sí, claro. Quedamos así entonces. Y bueno, un placer hablar contigo, Juan. Espero que esta nueva información te ayude a tomar la mejor decisión.\"},\n",
    "    {\"speaker\": \"cliente\", \"text\": \"Igualmente, Pedro. Y gracias por la paciencia y por aclarar todas mis dudas. Hasta el martes.\"}\n",
    "]\n",
    "transcript_cortante = [\n",
    "    {\"speaker\": \"vendedor\", \"text\": \"Buenas tardes Juan, ¿qué tal? ¿Cómo estás? Te llamo a ver para seguir con el tema de la reunión de la semana pasada, que... quedamos en que te llamaría para ver qué te había parecido la propuesta. ¿Qué tal te ha ido la semana? ¿Alguna novedad? Me imagino que sí, claro. Y bueno, supongo que habrás visto los auriculares y todo lo que te mandé, ¿verdad? Y este... a ver, quiero saber qué opinas, porque la verdad es que estamos muy contentos con el producto que tenemos entre manos y bueno, creemos que tiene un potencial increíble para vuestra marca. Ya te comenté que la experiencia de usuario que ofrecemos es superior a todo lo que hay en el mercado, este... a ver, en cuanto a calidad y prestaciones. Y... ¿y bueno, qué me dices?\"},\n",
    "    {\"speaker\": \"cliente\", \"text\": \"Buenas tardes Pedro. Pues la verdad es que...\"},\n",
    "    {\"speaker\": \"vendedor\", \"text\": \"Sí, claro, dime, dime, te escucho. Seguro que tienes alguna pregunta sobre el coste, ¿verdad? A ver, es lo más habitual, porque entiendo que el precio puede parecer un poco elevado a primera vista, pero... y bueno, como te dije, es una inversión que realmente merece la pena. No estamos hablando de unos auriculares más. A ver, estamos hablando de un producto de muy alta gama, con unas características que no vas a encontrar en ningún otro sitio. Me imagino que, este, a ver, lo habrás pensado y... y bueno, seguro que tienes alguna duda concreta. Yo, la verdad, estoy convencido de que os va a encantar. Y bueno, de que vuestros clientes van a estar fascinados con la calidad del sonido, que es, este, a ver, es espectacular.\"},\n",
    "    {\"speaker\": \"cliente\", \"text\": \"Sí, de hecho el precio...\"},\n",
    "    {\"speaker\": \"vendedor\", \"text\": \"Claro, el precio. Y bueno, déjame que te recuerde los puntos clave. A ver, la gran diferencia es el volumen de escucha. Te lo comenté, pero, este, a ver, quiero que te quede claro. Tenemos un 20% más de volumen que la competencia. Es, este, a ver, es una barbaridad. Y bueno, eso permite que el usuario escuche su música, sus podcasts, lo que sea. Este, a ver, en cualquier entorno, sin que le moleste el ruido de fuera. Y sin perder, este, a ver, ni una pise de calidad. Y bueno, eso es una ventaja competitiva muy importante que, este, a ver, os va a diferenciar mucho. Además, este, a ver, si ves cómo está el mercado ahora, todo mundo busca algo que le haga destacar. Y bueno, la calidad de nuestros auriculares es, a ver, es inigualable. Y bueno, es un valor seguro para vosotros. Además, este, a ver, también está el tema de la resistencia al agua. Nuestros auriculares son subacuáticos. Sí, sí, como lo oyes, se pueden sumergir. Y bueno, esto es una maravilla para, a ver, para los deportistas. Y para la gente que vive en zonas con mucha lluvia. Y bueno, para, este, a ver, para cualquier persona que, que quiera que tenga la tranquilidad de que sus auriculares no se van a estropear con este, con un poco de agua. Y bueno, la batería también es un, este, a ver, un punto muy fuerte. Tenemos 12 horas de duración. Eso es el doble de la media. O sea, este, a ver, es que no hay comparación. Es, a ver, la mejor opción del mercado. Y bueno, ¿qué te parece? ¿Verdad que es increíble?\"},\n",
    "    {\"speaker\": \"cliente\", \"text\": \"Sí, la verdad me parece muy bien. Pero tengo una pregunta sobre el...\"},\n",
    "    {\"speaker\": \"vendedor\", \"text\": \"Seguro que sobre las condiciones de pago. Y este, a ver, no te preocupas por eso, lo podemos negociar. Y bueno, estamos abiertos a, este, hablar de los plazos y de los, a ver, de los volúmenes de compra. Sí, este, a ver, si te interesa un pedido grande, podemos, este, a ver, hacer un descuento especial. Y bueno, la idea es que todos salgamos ganando. Y bueno, ¿qué te parece? ¿Verdad que es una propuesta muy, este, muy atractiva? Ya te digo, ¿eh? Con un pedido grande, podríamos, este, a ver, ofrecer un precio por unidad que se ajuste más a vuestro presupuesto inicial. Y bueno, te aseguro que, este, la calidad del producto y, a ver, la satisfacción del cliente compensa, eh, con creces esa inversión. Y, y bueno, además, este, a ver, la marca de auriculares que ofreces dice mucho de ti. Y bueno, ofrecer unos auriculares con estas prestaciones es, a ver, es proyectar una imagen de marca de, de alta calidad y, este, de innovación.\"},\n",
    "    {\"speaker\": \"cliente\", \"text\": \"Sí\"},\n",
    "    {\"speaker\": \"vendedor\", \"text\": \" Me alegro de que lo vías así. Y bueno, mira, para no, eh, para no alargarnos más, ¿qué te parece si te envió la propuesta de nuevo? Pero, este, a ver, con un pequeño resumen de las ventajas competitivas, este, a ver, en Negrita, para que se lo puedas enseñar a tu equipo y, y bueno, que vean que la inversión está más que justificada. Y este, a ver, te aseguro que no os vais a arrepentir. Y, y bueno, podríamos, eh, concertar una reunión con tu equipo si quieres, para, este, a ver, para resolver cualquier duda que tengan. Y, y bueno, si lo ven con más detalle.\"},\n",
    "    {\"speaker\": \"cliente\", \"text\": \"Me parece bien, pero me gustaría...\"}, \n",
    "    {\"speaker\": \"vendedor\", \"text\": \"Perfecto, Juan. Y bueno, quedemos así. Te lo envío ahora mismo y, este, a ver, me llama si tienes alguna otra pregunta y, bueno, hablamos la semana que viene para cerrar los, los detalles. Y este, a ver, seguro que todo sale bien. Y, y bueno, un placer.\"},\n",
    "    {\"speaker\": \"cliente\", \"text\": \"Igualmente, Pedro. Hasta el martes.\"}\n",
    "]"
   ]
  },
  {
   "cell_type": "code",
   "execution_count": 45,
   "metadata": {},
   "outputs": [],
   "source": [
    "transcript1 = extraer_texto_vendedor(transcript_bueno)\n",
    "transcript2 = extraer_texto_vendedor(transcript_cortante)"
   ]
  },
  {
   "cell_type": "code",
   "execution_count": 37,
   "metadata": {},
   "outputs": [
    {
     "data": {
      "text/plain": [
       "'**Puntuación:** 3 puntos\\n\\n**Justificación:** El vendedor mantiene un tono positivo y enérgico durante toda la llamada, mostrando entusiasmo por los productos y beneficios que ofrecen. A pesar de objeciones como \"el precio es un factor importante\" o el rechazo inicial de 5.000 unidades, se recupera rápidamente y continúa explicando los puntos clave de ventaja de los auriculares.\\n\\nLa energía del vendedor permanece constante a lo largo de la llamada, y aunque hay pequeñas pausas en su discurso, no son suficientes como para reducir significativamente el tono positivo. La forma en que se recupera después de objeciones es construida, utilizando frases como \"aprecio tu franqueza, permíteme explicarte\" y manteniendo un lenguaje constructivo.\\n\\nFinalmente, la llamada termina con próximos pasos, propone reunirse la semana siguiente para revisar las condiciones de pago y presentar una propuesta personalizada. No se rinde ni muestra frustración, lo que demuestra su capacidad para perseverar en la venta.\\n\\n'"
      ]
     },
     "execution_count": 37,
     "metadata": {},
     "output_type": "execute_result"
    }
   ],
   "source": [
    "evaluar_resiliencia(transcript, 'llama3')"
   ]
  },
  {
   "cell_type": "code",
   "execution_count": 47,
   "metadata": {},
   "outputs": [
    {
     "data": {
      "text/plain": [
       "'**Puntuación:** 3 puntos\\n\\n**Justificación:** El vendedor mantiene un tono positivo y enérgico durante toda la llamada, demostrando resiliencia al enfrentar objeciones y rechazos. Cuando Juan hace una objeción sobre el precio, el vendedor se recupera rápidamente y sigue hablando con entusiasmo, explicando las ventajas competitivas del producto y enfatizando su calidad y innovación.\\n\\nEjemplos de la transcripción que lo respaldan:\\n\\n* \"A ver, la gran diferencia es el volumen de escucha. Te lo comenté, pero, este, a ver, quiero que te quede claro.\"\\n* \"Y bueno, la calidad del producto y, a ver, la satisfacción del cliente compensa, eh, con creces esa inversión.\"\\n* \"Me alegro de que lo vías así. Y bueno, mira, para no, eh, para no alargarnos más...\"\\n\\nEl vendedor también se esfuerza por mantener una relación positiva con el prospecto, hablando sobre los beneficios del producto y enfatizando su valor para la marca de Juan. La llamada termina con próximos pasos, como enviar la propuesta de nuevo y concertar una reunión con el equipo de Juan, lo que sugiere que el vendedor está dispuesto a seguir adelante y resolver cualquier duda que tenga el prospecto.\\n\\n'"
      ]
     },
     "execution_count": 47,
     "metadata": {},
     "output_type": "execute_result"
    }
   ],
   "source": [
    "evaluar_resiliencia(transcript2, 'llama3')"
   ]
  },
  {
   "cell_type": "code",
   "execution_count": 46,
   "metadata": {},
   "outputs": [
    {
     "data": {
      "text/plain": [
       "'{ \"puntuación\": 2,\\n\"justificación\": \"El vendedor utiliza un lenguaje empático y de comprensión en algunos momentos, como cuando dice \\'entiendo perfectamente tu preocupación\\' o \\'me imagino que sí, claro\\'. Sin embargo, también interrumpe al cliente varias veces, especialmente al final de la conversación, donde se siente apresurado para enviar la propuesta de nuevo y concertar una reunión con el equipo. Además, solo superficialmente valida las preocupaciones del cliente, sin profundizar en ellas ni mostrar un verdadero interés por entender sus inquietudes.\" }\\n\\n'"
      ]
     },
     "execution_count": 46,
     "metadata": {},
     "output_type": "execute_result"
    }
   ],
   "source": [
    "evaluar_empatia(transcript2, 'llama3')"
   ]
  }
 ],
 "metadata": {
  "kernelspec": {
   "display_name": "Python 3",
   "language": "python",
   "name": "python3"
  },
  "language_info": {
   "codemirror_mode": {
    "name": "ipython",
    "version": 3
   },
   "file_extension": ".py",
   "mimetype": "text/x-python",
   "name": "python",
   "nbconvert_exporter": "python",
   "pygments_lexer": "ipython3",
   "version": "3.12.3"
  }
 },
 "nbformat": 4,
 "nbformat_minor": 2
}
