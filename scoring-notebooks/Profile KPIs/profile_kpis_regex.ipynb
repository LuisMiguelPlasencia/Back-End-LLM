{
 "cells": [
  {
   "cell_type": "markdown",
   "metadata": {},
   "source": [
    "# KPIs Perfil"
   ]
  },
  {
   "cell_type": "code",
   "execution_count": 1,
   "metadata": {},
   "outputs": [],
   "source": [
    "import re \n",
    "from typing import List, Dict, Tuple"
   ]
  },
  {
   "cell_type": "code",
   "execution_count": 2,
   "metadata": {},
   "outputs": [],
   "source": [
    "def extraer_texto_vendedor(transcript: List[Dict[str, str]]) -> str:\n",
    "    \"\"\"Extrae todo el texto del vendedor de la transcripción\"\"\"\n",
    "    return \" \".join([entry[\"text\"] for entry in transcript if entry[\"speaker\"] == \"vendedor\"])"
   ]
  },
  {
   "cell_type": "markdown",
   "metadata": {},
   "source": [
    "## 1. Prospección"
   ]
  },
  {
   "cell_type": "code",
   "execution_count": null,
   "metadata": {},
   "outputs": [],
   "source": [
    "def evaluar_prospeccion(transcript: List[Dict[str, str]]) -> Tuple[int, str]:\n",
    "    \"\"\"\n",
    "    Evalúa la prospección del vendedor\n",
    "    Retorna: (puntuación, justificación)\n",
    "    \"\"\"\n",
    "    texto_vendedor = extraer_texto_vendedor(transcript).lower()\n",
    "    \n",
    "    # Indicadores de prospección ALTA\n",
    "    indicadores_alta = [\n",
    "        r'vi en tu perfil',\n",
    "        r'linkedin',\n",
    "        r'tu publicación',\n",
    "        r'tu artículo',\n",
    "        r'el evento.*mes pasado',\n",
    "        r'sé que.*asistieron',\n",
    "        r'tu nueva posición',\n",
    "        r'tu actual posición',\n",
    "        r'te ascendieron',\n",
    "        r'investigué',\n",
    "        r'he visto que'\n",
    "    ]\n",
    "    \n",
    "    # Indicadores de prospección MEDIA\n",
    "    indicadores_media = [\n",
    "        r'cuéntame.*sobre.*empresa',\n",
    "        r'qué retos.*enfrentando',\n",
    "        r'qué.*soluciones.*utilizad[oa]',\n",
    "        r'háblame de',\n",
    "        r'cómo.*funcionan.*actualmente'\n",
    "    ]\n",
    "    \n",
    "    # Indicadores de prospección BAJA\n",
    "    indicadores_baja = [\n",
    "        r'te llamo para presentar',\n",
    "        r'nuestro nuevo producto',\n",
    "        r'permíteme explicar',\n",
    "        r'nuestra empresa es.*mejor',\n",
    "        r'somos líderes',\n",
    "        r'quería contarte de'\n",
    "    ]\n",
    "    \n",
    "    # Contar coincidencias\n",
    "    count_alta = sum(1 for patron in indicadores_alta if re.search(patron, texto_vendedor))\n",
    "    count_media = sum(1 for patron in indicadores_media if re.search(patron, texto_vendedor))\n",
    "    count_baja = sum(1 for patron in indicadores_baja if re.search(patron, texto_vendedor))\n",
    "    \n",
    "    if count_alta >= 1:\n",
    "        return (3, f\"El vendedor muestra investigación previa y personalización ({count_alta} indicadores detectados)\")\n",
    "    elif count_media >= 2:\n",
    "        return (2, f\"El vendedor hace preguntas generales de descubrimiento ({count_media} indicadores detectados)\")\n",
    "    elif count_baja >= 1 or (count_media == 0 and count_alta == 0):\n",
    "        return (1, f\"El vendedor va directo al pitch sin descubrimiento ({count_baja} indicadores detectados)\")\n",
    "    else:\n",
    "        return (2, \"Prospección básica detectada\")"
   ]
  },
  {
   "cell_type": "markdown",
   "metadata": {},
   "source": [
    "## 2. Empatía"
   ]
  },
  {
   "cell_type": "markdown",
   "metadata": {},
   "source": [
    "## 3. Dominio técnico"
   ]
  },
  {
   "cell_type": "markdown",
   "metadata": {},
   "source": [
    "## 4. Negociación"
   ]
  },
  {
   "cell_type": "markdown",
   "metadata": {},
   "source": [
    "## 5. Resiliencia"
   ]
  }
 ],
 "metadata": {
  "kernelspec": {
   "display_name": "Python 3",
   "language": "python",
   "name": "python3"
  },
  "language_info": {
   "codemirror_mode": {
    "name": "ipython",
    "version": 3
   },
   "file_extension": ".py",
   "mimetype": "text/x-python",
   "name": "python",
   "nbconvert_exporter": "python",
   "pygments_lexer": "ipython3",
   "version": "3.12.3"
  }
 },
 "nbformat": 4,
 "nbformat_minor": 2
}
