{
 "cells": [
  {
   "cell_type": "markdown",
   "metadata": {},
   "source": [
    "# Scoring con Llama3"
   ]
  },
  {
   "cell_type": "code",
   "execution_count": 2,
   "metadata": {},
   "outputs": [],
   "source": [
    "import subprocess\n",
    "\n",
    "def evaluar_transcript(transcript,instructions):\n",
    "    prompt = f\"\"\"\n",
    "{instructions}\n",
    "\n",
    "Conversación:\n",
    "===\n",
    "{transcript}\n",
    "===\n",
    "    \"\"\"\n",
    "\n",
    "    result = subprocess.run(\n",
    "        ['ollama', 'run', 'llama3'],\n",
    "        input=prompt.encode(),\n",
    "        capture_output=True\n",
    "    )\n",
    "    return result.stdout.decode()\n"
   ]
  },
  {
   "cell_type": "code",
   "execution_count": 3,
   "metadata": {},
   "outputs": [],
   "source": [
    "prompt = \"\"\"\n",
    "Responde todas las respuestas únicamente en español.\n",
    "Eres un experto en ventas B2B español (hablas castellano). Evalúa la conversación y proporciona:\n",
    "1. Puntuación global del 0 al 100\n",
    "2. Scoring de estas habilidades:\n",
    "   - Escucha activa\n",
    "   - Claridad en la propuesta\n",
    "   - Identificación de necesidades\n",
    "   - Gestión de objeciones\n",
    "   - Cierre efectivo\n",
    "   - Empatía\n",
    "Sé estricto con la puntuación:\n",
    "   - Si la conversación es corta (menos de 10 intercambios), la puntuación global debe ser menor que 50/100\n",
    "   - No otorgues puntuaciones altas si no hay una propuesta clara, empatía explícita, ni pasos de cierre.\n",
    "   - Una conversación sin demostración, sin seguimiento ni preguntas de cierre debe estar por debajo de 50/100.\n",
    "   - Todas las habilidades tienen que tener un score. Si no eres capaz de poner un score porque no hay evidencia de esa habilidad en la conversación la nota de esa habilidad será de 0/100\n",
    "3. Feedback positivo y puntos de mejora (bullets).\n",
    "4. Recomendaciones concretas para próximas conversaciones.\n",
    "\n",
    "\"\"\""
   ]
  },
  {
   "cell_type": "code",
   "execution_count": 4,
   "metadata": {},
   "outputs": [],
   "source": [
    "transcript_de_ejemplo = \"\"\"\n",
    "Cliente: Hola, estoy buscando una forma de automatizar informes.\n",
    "Vendedor: Claro, ¿qué herramientas usas ahora?\n",
    "Cliente: Excel y Google Sheets, todo manual.\n",
    "Vendedor: Tenemos una solución que conecta tus fuentes y automatiza eso...\n",
    "\"\"\""
   ]
  },
  {
   "cell_type": "code",
   "execution_count": 5,
   "metadata": {},
   "outputs": [
    {
     "name": "stdout",
     "output_type": "stream",
     "text": [
      "**Puntuación global:** 60/100\n",
      "\n",
      "**Scoring de habilidades:**\n",
      "\n",
      "* Escucha activa: 30/100 (la conversación comienza con un intento de escuchar, pero se desvía pronto hacia la proposición)\n",
      "* Claridad en la propuesta: 50/100 (la solución es mencionada, pero no se describe claramente cómo funciona o qué beneficios puede aportar)\n",
      "* Identificación de necesidades: 40/100 (el vendedor identifica el problema del cliente, pero no profundiza mucho en ello)\n",
      "* Gestión de objeciones: 0/100 (no hay mencionado de objeciones ni respuestas a posibles inquietudes del cliente)\n",
      "* Cierre efectivo: 20/100 (la conversación termina abruptamente sin un llamado a la acción o una propuesta clara para el siguiente paso)\n",
      "* Empatía: 20/100 (no hay demostración explícita de empatía con las necesidades del cliente)\n",
      "\n",
      "**Feedback positivo y puntos de mejora:**\n",
      "\n",
      "* El vendedor comienza bien al mostrar interés por la situación actual del cliente.\n",
      "* Es importante desarrollar más la proposición y presentar los beneficios específicos que puede aportar la solución.\n",
      "\n",
      "**Puntos de mejora:**\n",
      "\n",
      "* Antes de presentar la solución, preguntar más sobre las necesidades del cliente para entender mejor su perspectiva.\n",
      "* Describir claramente cómo funciona la solución y qué beneficios puede aportar.\n",
      "* Prepararse para objeciones comunes y responder con confianza y autoridad.\n",
      "* Terminar la conversación con un llamado a la acción o una propuesta clara para el siguiente paso.\n",
      "\n",
      "**Recomendaciones concretas para próximas conversaciones:**\n",
      "\n",
      "* Asegúrate de escuchar activamente al cliente y hacer preguntas claras sobre sus necesidades y expectativas.\n",
      "* Prepara una proposición clara y concisa que destaque los beneficios específicos de la solución.\n",
      "* Preguntar si hay objeciones o inquietudes para responder con confianza y autoridad.\n",
      "* Terminar la conversación con un llamado a la acción o una propuesta clara para el siguiente paso.\n",
      "\n",
      "\n"
     ]
    }
   ],
   "source": [
    "print(evaluar_transcript(transcript_de_ejemplo,prompt))"
   ]
  }
 ],
 "metadata": {
  "kernelspec": {
   "display_name": ".venv",
   "language": "python",
   "name": "python3"
  },
  "language_info": {
   "codemirror_mode": {
    "name": "ipython",
    "version": 3
   },
   "file_extension": ".py",
   "mimetype": "text/x-python",
   "name": "python",
   "nbconvert_exporter": "python",
   "pygments_lexer": "ipython3",
   "version": "3.13.5"
  }
 },
 "nbformat": 4,
 "nbformat_minor": 2
}
