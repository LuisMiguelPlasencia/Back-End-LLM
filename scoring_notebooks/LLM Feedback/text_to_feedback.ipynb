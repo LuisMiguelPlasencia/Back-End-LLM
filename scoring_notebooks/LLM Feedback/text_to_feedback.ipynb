{
 "cells": [
  {
   "cell_type": "markdown",
   "metadata": {},
   "source": [
    "# Feedback LLM "
   ]
  },
  {
   "cell_type": "code",
   "execution_count": 1,
   "metadata": {},
   "outputs": [],
   "source": [
    "from openai import OpenAI\n",
    "from dotenv import load_dotenv\n",
    "import sys\n",
    "import os \n",
    "\n",
    "sys.path.insert(0, \"../../src\")\n",
    "load_dotenv()\n",
    "OPENAI_TOKEN = os.getenv(\"OPENAI_TOKEN\")"
   ]
  },
  {
   "cell_type": "code",
   "execution_count": null,
   "metadata": {},
   "outputs": [
    {
     "name": "stdout",
     "output_type": "stream",
     "text": [
      "Sí. En el contexto de un transcript, PPM casi siempre se refiere a “palabras por minuto” (en español, a veces se usa PPM para short de “palabras por minuto”). Indica la velocidad a la que se habla en el audio o video que se transcribió.\n",
      "\n",
      "Cómo se calcula:\n",
      "- Cuenta cuántas palabras hay en el segmento (o en todo el grabado).\n",
      "- Divide ese número entre la duración en minutos del segmento.\n",
      "- Fórmula: PPM = palabras / minutos.\n",
      "\n",
      "Ejemplo:\n",
      "- Si un podcast de 5 minutos tiene 600 palabras, PPM = 600 / 5 = 120 palabras por minuto.\n",
      "\n",
      "Notas útiles:\n",
      "- En muchos transcripts, el PPM puede mostrarse por intervalos (p. ej., por cada minuto) para ver variaciones de ritmo a lo largo del audio.\n",
      "- El PPM puede variar entre secciones o entre hablantes; suele usarse para evaluar fluidez, planificar subtítulos o doblaje.\n",
      "\n",
      "Si me das un fragmento o los números (palabras y duración), te ayudo a calcularlo. ¿Qué contexto exacto tienes para el PPM en tu transcript?\n"
     ]
    }
   ],
   "source": [
    "# 2. Inicializa el cliente con tu API key\n",
    "client = OpenAI(api_key=OPENAI_TOKEN)\n",
    "\n",
    "# 3. Llama a ChatGPT\n",
    "response = client.chat.completions.create(\n",
    "    model=\"gpt-5-nano\",\n",
    "    messages=[\n",
    "        {\"role\": \"system\", \"content\": \"Eres un asistente útil.\"},\n",
    "        {\"role\": \"user\", \"content\": \"Hola, ¿puedes explicarme qué es el PPM en un transcript?\"}\n",
    "    ],\n",
    ")\n",
    "\n",
    "# 4. Mostrar la respuesta\n",
    "print(response.choices[0].message.content)\n"
   ]
  },
  {
   "cell_type": "code",
   "execution_count": null,
   "metadata": {},
   "outputs": [],
   "source": []
  }
 ],
 "metadata": {
  "kernelspec": {
   "display_name": "speech-to-text-backend-2J9T7oHW-py3.13",
   "language": "python",
   "name": "python3"
  },
  "language_info": {
   "codemirror_mode": {
    "name": "ipython",
    "version": 3
   },
   "file_extension": ".py",
   "mimetype": "text/x-python",
   "name": "python",
   "nbconvert_exporter": "python",
   "pygments_lexer": "ipython3",
   "version": "3.13.5"
  }
 },
 "nbformat": 4,
 "nbformat_minor": 2
}
