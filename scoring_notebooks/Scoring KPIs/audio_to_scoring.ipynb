{
 "cells": [
  {
   "cell_type": "markdown",
   "metadata": {},
   "source": [
    "## Init"
   ]
  },
  {
   "cell_type": "code",
   "execution_count": 46,
   "metadata": {},
   "outputs": [],
   "source": [
    "import import_ipynb\n",
    "import scoring_kpis\n",
    "from scoring_kpis import calcular_scoring, generar_feedback_llm\n",
    "from voice_to_text import transcribe_audio"
   ]
  },
  {
   "cell_type": "markdown",
   "metadata": {},
   "source": [
    "## Input"
   ]
  },
  {
   "cell_type": "code",
   "execution_count": 3,
   "metadata": {},
   "outputs": [
    {
     "name": "stdout",
     "output_type": "stream",
     "text": [
      "Cargando modelo whisper (small)...\n",
      "Transcribiendo /Users/dfloren10/MagIA/MagIA-Zaragoza/Scoring LLM/Scoring Script/Version 1 - Buena.wav...\n"
     ]
    },
    {
     "name": "stderr",
     "output_type": "stream",
     "text": [
      "/Users/dfloren10/MagIA/MagIA-Zaragoza/.venv/lib/python3.13/site-packages/whisper/transcribe.py:132: UserWarning: FP16 is not supported on CPU; using FP32 instead\n",
      "  warnings.warn(\"FP16 is not supported on CPU; using FP32 instead\")\n"
     ]
    },
    {
     "name": "stdout",
     "output_type": "stream",
     "text": [
      "\n",
      "--- Transcripción ---\n",
      " Buenas tardes Juan, ¿cómo estás? Te llamo a ver para seguir con el tema de la reunión de la semana pasada. ¿Qué tal te ha ido este la semana? ¿Alguna novedad? Buenas tardes Pedro, pues la verdad es que bastante bien, gracias por preguntar. Y sí, justo pensaba en vuestra propuesta. La he estado revisando con mi equipo y tenemos algunas preguntas que me gustaría que me aclaraces para poder tomar una decisión. Ah, perfecto. Ehm, de eso se trata. ¿Qué dudas tienes este, a ver en concreto? Y bueno, así las resolvemos ahora mismo. Estoy aquí para lo que necesites. Mira, la principal es sobre el coste. Entendemos que vuestros auriculares son de gama alta, pero el presupuesto que nos habéis pasado es un poco superior al que teníamos planeado. Necesito entender mejor, ¿eh?, por qué la inversión es tan elevada. Entiendo perfectamente. Y bueno, el precio es un factor importante, claro. Y quiero que te sientas seguro con tu decisión. Pero, este, a ver, permíteme explicarte de nuevo lo que hace que nuestros auriculares sean diferentes y a la vez que justifique esa inversión. Verás, no solo estás comprando un producto. Este, estás adquiriendo una serie de ventajas que van a impactar directamente en la experiencia del usuario, en la reputación de vuestra marca y en el valor añadido que ofrecéis. ¿A qué te refieres exactamente? ¿Puede ser un poco más específico con las ventajas? A ver, como te comenté la semana pasada, una de las grandes diferencias es el volumen de escucha. Y bueno, es un detalle que a mi nudo se pasa por alto. Pero, este, a ver, es fundamental para la satisfacción del cliente. Nuestros auriculares, este, tienen un nivel de volumen que es un 20% más alto que la media del mercado, sin perder la calidad del sonido ni distorsiones. Esto es crucial para los clientes que busquen una experiencia inmersiva. Y este, y bueno, que necesitan un sonido claro en entornos ruidosos, como en el transporte público o en la caña. ¿Te imaginas a alguien intentando escuchar música en una cafetería ruidosa? Con nuestros auriculares, no tendría ningún problema. Eso sí que me parece interesante. No había considerado ese punto con tanta profundidad. Es verdad que muchos clientes se quejan de que el volumen máximo no es suficiente. ¿Qué otras cosas destacarías? Porque si bien ese punto es importante, necesito más argumentos para justificar el precio. Pues mira, también está la resistencia al agua. Y este punto es revolucionario. Nuestros auriculares son subacuáticos. No solo son resistentes a salpicadura o al sudor. Este, a ver, sino que se pueden sumergir completamente a una profundidad de hasta un metro durante 30 minutos. Y bueno, esto abre un mercado completamente nuevo para vuestros clientes. Piensa en deportistas, nadadores, que quieren escuchar música mientras entrenan. Gente que hace ejercicio al aire libre bajo la lluvia. Y bueno, también usuarios que simplemente quieren la tranquilidad de saber que sus auriculares no se van a estropear si les cae un vaso de agua encima. Uff, eso es un valor añadido. No me digas más. Es una característica que nos diferenciaría completamente de la competencia. Y qué me dices de la batería? Siempre tengo un poco de miedo de que se descarguen en el momento más inoportuno. Es una de las quejas más comunes entre los usuarios de auriculares inalámbricos. Y bueno, ese es otra gran ventaja, Juan. La duración de la batería. Nuestros auriculares ofrecen hasta 12 horas de reproducción continua con una sola carga. A ver, eso es casi el doble que la mayoría de nuestros competidores. Imagina un usuario que viaja en avión, por ejemplo, o que tiene un día largo en el trabajo. No tendría que preocuparse de cargar los auriculares a cada rato. Eso es un alivio para ellos y bueno, se traduce en una mejor experiencia de uso. La verdad, Pedro, es que ahora que lo dices así con más detalle, le veo mucho más sentido al precio. El volumen, la resistencia al agua y la duración de la batería son tres puntos muy fuertes. ¿Qué garantía ofrecen para el producto? A ver, ofrecemos una garantía de dos años contra cualquier defecto de fabricación. Y bueno, también tenemos un servicio de atención al cliente, que está disponible 24-7 para cualquier problema que pueda surgir. Queremos que tanto vosotros como vuestros clientes estén completamente satisfechos con la compra. Eso me da mucha tranquilidad. Bien, entiendo el valor del producto. Ahora, volviendo al tema del precio, ¿hay alguna posibilidad de ajustar las condiciones de pago, ofrecen algún tipo de descuento por volumen? Si compramos una cantidad significativa, ¿claro? Mmm... A ver, lo podemos negociar, claro. Y bueno, me gustaría entender mejor vuestras necesidades. ¿Qué cantidad de unidades estarías, este, a ver, pensando en adquirir inicialmente? Y con esa información podríamos buscar una opción que se ajuste a vuestras necesidades de presupuesto y de flujo de caja. ¿Estaríamos pensando en un pedido inicial de unas 5.000 unidades? Es un número importante para nosotros. 5.000 unidades, ¿entendido? Y bueno, con un volumen así, definitivamente podríamos aplicar un descuento por volumen. Y a ver, también podríamos, este, revisar las condiciones de pago. ¿Qué tal si lo hablamos la semana que viene? Así, preparo una propuesta con esos ajustes. Me parece perfecto. Te llamo yo el martes por la mañana, ¿te parece bien? Sí, claro. Quedamos así entonces. Y bueno, un placer hablar contigo, Juan. Espero que esta nueva información te ayude a tomar la mejor decisión. Igualmente, Pedro. Y gracias por la paciencia y por aclarar todas mis dudas. Hasta el martes.\n"
     ]
    }
   ],
   "source": [
    "raw_transcript = transcribe_audio(file_path='/Users/dfloren10/MagIA/MagIA-Zaragoza/Scoring LLM/Scoring Script/Version 1 - Buena.wav')"
   ]
  },
  {
   "cell_type": "code",
   "execution_count": 18,
   "metadata": {},
   "outputs": [
    {
     "name": "stdout",
     "output_type": "stream",
     "text": [
      "Cargando modelo whisper (small)...\n",
      "Transcribiendo /Users/dfloren10/MagIA/MagIA-Zaragoza/Scoring LLM/Scoring Script/Version 2 - Muchas muletillas.wav...\n"
     ]
    },
    {
     "name": "stderr",
     "output_type": "stream",
     "text": [
      "/Users/dfloren10/MagIA/MagIA-Zaragoza/.venv/lib/python3.13/site-packages/whisper/transcribe.py:132: UserWarning: FP16 is not supported on CPU; using FP32 instead\n",
      "  warnings.warn(\"FP16 is not supported on CPU; using FP32 instead\")\n"
     ]
    },
    {
     "name": "stdout",
     "output_type": "stream",
     "text": [
      "\n",
      "--- Transcripción ---\n",
      " Hola Juan, a ver cómo te va. Te llamo porque este... bueno quiero seguir hablando de la reunión del otro día. ¿Qué tal ha ido la semana? ¿Tienes alguna, este, alguna pregunta? Hola Pedro, pues bien, gracias. Si la verdad es que he estado revisando vuestra propuesta y tengo un par de preguntas que me gustaría que me aclaraces. El presupuesto me parece un poco alto. Ah, sí, el... el presupuesto, claro. Y bueno, entiendo. Pero este... a ver, déjame que te lo expliqué otra vez. No es solo el producto, sino este, todo lo que viene con él. Es un... a ver, es una inversión en la experiencia del cliente, ¿sabes? No me queda muy claro. Puede ser más específico. Me gustaría entender el por qué de ese precio. Sí, claro. A ver, una de las cosas y bueno, es muy importante, es el volumen. Nuestros auriculares, este, tienen un volumen muy... muy alto. Es un... a ver, un 20% más o menos que los demás, sin perder la calidad, claro. Y bueno, es genial para gente que está en sitios con mucho ruido. Eso sí que es un punto interesante. La verdad, mucha gente se queja de eso. ¿Qué más? Porque el precio, como te digo, es bastante elevado. Pues, otra cosa, a ver, que es muy guay, es que son... ¿cómo te diría? A ver, para el agua, sí, se pueden sumergir. Y bueno, son perfectos para gente que hace, este, natación o que... bueno, que los usa con lluvia, ¿sabes? O sea, son subacuáticos. Eso sí que es un punto muy fuerte. No lo recordaba de la última vez. Sí, exacto. Eso, este, son... a ver, subacuáticos y bueno, también la batería. La batería dura mucho. A ver, creo que eran, este, 12 horas. Sí, 12 horas. Es... a ver, es casi el doble que los otros. Y bueno, es muy cómodo para la gente que viaja o que no tiene un... a ver, un enchufe de cerca. La verdad, el volumen alto, que sean sumergibles y que la batería dure tanto, son puntos que me comensen. Ahora que los mencionas juntos, le veo más sentido al precio. Sí, esa es la idea. Es que... a ver, es un producto muy... muy completo. Y bueno, ¿qué tal si este... si te reenvío la propuesta con un... a ver, un resumen de estas cosas, para que se le enseñes a tu equipo? Me parece bien. Y podríamos hablar del pago. Me gustaría ver si hay alguna forma de hacer un plan más flexible. Sí, claro. Y bueno, lo podemos, este, negociar. A ver, ¿qué te parece si hablamos la semana que viene y lo vemos con calma? Perfecto. Te llamo el martes por la mañana. Sí, genial. Quedamos así. Y bueno, un placer. Igualmente, Pedro. Hasta el martes.\n"
     ]
    }
   ],
   "source": [
    "raw_transcript_2 = transcribe_audio(file_path='/Users/dfloren10/MagIA/MagIA-Zaragoza/Scoring LLM/Scoring Script/Version 2 - Muchas muletillas.wav')"
   ]
  },
  {
   "cell_type": "code",
   "execution_count": 24,
   "metadata": {},
   "outputs": [
    {
     "name": "stdout",
     "output_type": "stream",
     "text": [
      "Cargando modelo whisper (small)...\n",
      "Transcribiendo /Users/dfloren10/MagIA/MagIA-Zaragoza/Scoring LLM/Scoring Script/Version 3 - Habla mucho, muletillas medias y no habla palabras clave.wav...\n"
     ]
    },
    {
     "name": "stderr",
     "output_type": "stream",
     "text": [
      "/Users/dfloren10/MagIA/MagIA-Zaragoza/.venv/lib/python3.13/site-packages/whisper/transcribe.py:132: UserWarning: FP16 is not supported on CPU; using FP32 instead\n",
      "  warnings.warn(\"FP16 is not supported on CPU; using FP32 instead\")\n"
     ]
    },
    {
     "name": "stdout",
     "output_type": "stream",
     "text": [
      "\n",
      "--- Transcripción ---\n",
      " Buenas tardes Juan, ¿qué tal? ¿Cómo estás? Te llamo a ver para seguir con el tema de la reunión de la semana pasada, que... quedamos en que te llamaría para ver qué te había parecido la propuesta. ¿Qué tal te ha ido la semana? ¿Alguna novedad? Me imagino que sí, claro. Y bueno, supongo que habrás visto los auriculares y todo lo que te mandé, ¿verdad? Y este... a ver, quiero saber qué opinas, porque la verdad es que estamos muy contentos con el producto que tenemos entre manos y bueno, creemos que tiene un potencial increíble para vuestra marca. Ya te comenté que la experiencia de usuario que ofrecemos es superior a todo lo que hay en el mercado, este... a ver, en cuanto a calidad y prestaciones. Y... ¿y bueno, qué me dices? Buenas tardes Pedro. Pues la verdad es que... Sí, claro, dime, dime, te escucho. Seguro que tienes alguna pregunta sobre el coste, ¿verdad? A ver, es lo más habitual, porque entiendo que el precio puede parecer un poco elevado a primera vista, pero... y bueno, como te dije, es una inversión que realmente merece la pena. No estamos hablando de unos auriculares más. A ver, estamos hablando de un producto de muy alta gama, con unas características que no vas a encontrar en ningún otro sitio. Me imagino que, este, a ver, lo habrás pensado y... y bueno, seguro que tienes alguna duda concreta. Yo, la verdad, estoy convencido de que os va a encantar. Y bueno, de que vuestros clientes van a estar fascinados con la calidad del sonido, que es, este, a ver, es espectacular. Sí, de hecho el precio... Claro, el precio. Y bueno, déjame que te recuerde los puntos clave. A ver, la gran diferencia es el volumen de escucha. Te lo comenté, pero, este, a ver, quiero que te quede claro. Tenemos un 20% más de volumen que la competencia. Es, este, a ver, es una barbaridad. Y bueno, eso permite que el usuario escuche su música, sus podcasts, lo que sea. Este, a ver, en cualquier entorno, sin que le moleste el ruido de fuera. Y sin perder, este, a ver, ni una pise de calidad. Y bueno, eso es una ventaja competitiva muy importante que, este, a ver, os va a diferenciar mucho. Además, este, a ver, si ves cómo está el mercado ahora, todo mundo busca algo que le haga destacar. Y bueno, la calidad de nuestros auriculares es, a ver, es inigualable. Y bueno, es un valor seguro para vosotros. Además, este, a ver, también está el tema de la resistencia al agua. Nuestros auriculares son subacuáticos. Sí, sí, como lo oyes, se pueden sumergir. Y bueno, esto es una maravilla para, a ver, para los deportistas. Y para la gente que vive en zonas con mucha lluvia. Y bueno, para, este, a ver, para cualquier persona que, que quiera que tenga la tranquilidad de que sus auriculares no se van a estropear con este, con un poco de agua. Y bueno, la batería también es un, este, a ver, un punto muy fuerte. Tenemos 12 horas de duración. Eso es el doble de la media. O sea, este, a ver, es que no hay comparación. Es, a ver, la mejor opción del mercado. Y bueno, ¿qué te parece? ¿Verdad que es increíble? Sí, la verdad me parece muy bien. Pero tengo una pregunta sobre el... Seguro que sobre las condiciones de pago. Y este, a ver, no te preocupas por eso, lo podemos negociar. Y bueno, estamos abiertos a, este, hablar de los plazos y de los, a ver, de los volúmenes de compra. Sí, este, a ver, si te interesa un pedido grande, podemos, este, a ver, hacer un descuento especial. Y bueno, la idea es que todos salgamos ganando. Y bueno, ¿qué te parece? ¿Verdad que es una propuesta muy, este, muy atractiva? Ya te digo, ¿eh? Con un pedido grande, podríamos, este, a ver, ofrecer un precio por unidad que se ajuste más a vuestro presupuesto inicial. Y bueno, te aseguro que, este, la calidad del producto y, a ver, la satisfacción del cliente compensa, eh, con creces esa inversión. Y, y bueno, además, este, a ver, la marca de auriculares que ofreces dice mucho de ti. Y bueno, ofrecer unos auriculares con estas prestaciones es, a ver, es proyectar una imagen de marca de, de alta calidad y, este, de innovación. Sí. Me alegro de que lo vías así. Y bueno, mira, para no, eh, para no alargarnos más, ¿qué te parece si te envió la propuesta de nuevo? Pero, este, a ver, con un pequeño resumen de las ventajas competitivas, este, a ver, en Negrita, para que se lo puedas enseñar a tu equipo y, y bueno, que vean que la inversión está más que justificada. Y este, a ver, te aseguro que no os vais a arrepentir. Y, y bueno, podríamos, eh, concertar una reunión con tu equipo si quieres, para, este, a ver, para resolver cualquier duda que tengan. Y, y bueno, si lo ven con más detalle. Me parece bien, pero me gustaría... Perfecto, Juan. Y bueno, quedemos así. Te lo envío ahora mismo y, este, a ver, me llama si tienes alguna otra pregunta y, bueno, hablamos la semana que viene para cerrar los, los detalles. Y este, a ver, seguro que todo sale bien. Y, y bueno, un placer. Igualmente, Pedro. Hasta el martes.\n"
     ]
    }
   ],
   "source": [
    "raw_transcript_3 = transcribe_audio(file_path='/Users/dfloren10/MagIA/MagIA-Zaragoza/Scoring LLM/Scoring Script/Version 3 - Habla mucho, muletillas medias y no habla palabras clave.wav')"
   ]
  },
  {
   "cell_type": "markdown",
   "metadata": {},
   "source": [
    "En el caso de que tirasemos por el postprocesado del Transcript, aquí vendría la función que transformaría el raw_transcript en el transcript legible. Sin embargo Nico tenía una idea que me parece mejor, y es que si al final el bot conversacional tuviera la capacidad de grabar y transcribir, nos daría el transcript postprocesado de gratis"
   ]
  },
  {
   "cell_type": "code",
   "execution_count": 2,
   "metadata": {},
   "outputs": [],
   "source": [
    "transcript_bueno = [\n",
    "    {\"speaker\": \"vendedor\", \"text\": \"Buenas tardes Juan, ¿cómo estás? Te llamo a ver para seguir con el tema de la reunión de la semana pasada. ¿Qué tal te ha ido este la semana? ¿Alguna novedad?\"},\n",
    "    {\"speaker\": \"cliente\", \"text\": \"Buenas tardes Pedro, pues la verdad es que bastante bien, gracias por preguntar. Y sí, justo pensaba en vuestra propuesta. La he estado revisando con mi equipo y tenemos algunas preguntas que me gustaría que me aclaraces para poder tomar una decisión.\"},\n",
    "    {\"speaker\": \"vendedor\", \"text\": \"Ah, perfecto. Ehm, de eso se trata. ¿Qué dudas tienes este, a ver en concreto? Y bueno, así las resolvemos ahora mismo. Estoy aquí para lo que necesites.\"},\n",
    "    {\"speaker\": \"cliente\", \"text\": \"Mira, la principal es sobre el coste. Entendemos que vuestros auriculares son de gama alta, pero el presupuesto que nos habéis pasado es un poco superior al que teníamos planeado. Necesito entender mejor, ¿eh?, por qué la inversión es tan elevada.\"},\n",
    "    {\"speaker\": \"vendedor\", \"text\": \"Entiendo perfectamente. Y bueno, el precio es un factor importante, claro. Y quiero que te sientas seguro con tu decisión. Pero, este, a ver, permíteme explicarte de nuevo lo que hace que nuestros auriculares sean diferentes y a la vez que justifique esa inversión. Verás, no solo estás comprando un producto. Este, estás adquiriendo una serie de ventajas que van a impactar directamente en la experiencia del usuario, en la reputación de vuestra marca y en el valor añadido que ofrecéis.\"},\n",
    "    {\"speaker\": \"cliente\", \"text\": \"¿A qué te refieres exactamente? ¿Puede ser un poco más específico con las ventajas?\"},\n",
    "    {\"speaker\": \"vendedor\", \"text\": \"A ver, como te comenté la semana pasada, una de las grandes diferencias es el volumen de escucha. Y bueno, es un detalle que a mi nudo se pasa por alto. Pero, este, a ver, es fundamental para la satisfacción del cliente. Nuestros auriculares, este, tienen un nivel de volumen que es un 20% más alto que la media del mercado, sin perder la calidad del sonido ni distorsiones. Esto es crucial para los clientes que busquen una experiencia inmersiva. Y este, y bueno, que necesitan un sonido claro en entornos ruidosos, como en el transporte público o en la caña. ¿Te imaginas a alguien intentando escuchar música en una cafetería ruidosa? Con nuestros auriculares, no tendría ningún problema.\"},\n",
    "    {\"speaker\": \"cliente\", \"text\": \"Eso sí que me parece interesante. No había considerado ese punto con tanta profundidad. Es verdad que muchos clientes se quejan de que el volumen máximo no es suficiente. ¿Qué otras cosas destacarías? Porque si bien ese punto es importante, necesito más argumentos para justificar el precio.\"},\n",
    "    {\"speaker\": \"vendedor\", \"text\": \"Pues mira, también está la resistencia al agua. Y este punto es revolucionario. Nuestros auriculares son subacuáticos. No solo son resistentes a salpicadura o al sudor. Este, a ver, sino que se pueden sumergir completamente a una profundidad de hasta un metro durante 30 minutos. Y bueno, esto abre un mercado completamente nuevo para vuestros clientes. Piensa en deportistas, nadadores, que quieren escuchar música mientras entrenan. Gente que hace ejercicio al aire libre bajo la lluvia. Y bueno, también usuarios que simplemente quieren la tranquilidad de saber que sus auriculares no se van a estropear si les cae un vaso de agua encima.\"},\n",
    "    {\"speaker\": \"cliente\", \"text\": \"Uff, eso es un valor añadido. No me digas más. Es una característica que nos diferenciaría completamente de la competencia. Y qué me dices de la batería? Siempre tengo un poco de miedo de que se descarguen en el momento más inoportuno. Es una de las quejas más comunes entre los usuarios de auriculares inalámbricos.\"},\n",
    "    {\"speaker\": \"vendedor\", \"text\": \"Y bueno, ese es otra gran ventaja, Juan. La duración de la batería. Nuestros auriculares ofrecen hasta 12 horas de reproducción continua con una sola carga. A ver, eso es casi el doble que la mayoría de nuestros competidores. Imagina un usuario que viaja en avión, por ejemplo, o que tiene un día largo en el trabajo. No tendría que preocuparse de cargar los auriculares a cada rato. Eso es un alivio para ellos y bueno, se traduce en una mejor experiencia de uso.\"},\n",
    "    {\"speaker\": \"cliente\", \"text\": \"La verdad, Pedro, es que ahora que lo dices así con más detalle, le veo mucho más sentido al precio. El volumen, la resistencia al agua y la duración de la batería son tres puntos muy fuertes. ¿Qué garantía ofrecen para el producto?\"},\n",
    "    {\"speaker\": \"vendedor\", \"text\": \"A ver, ofrecemos una garantía de dos años contra cualquier defecto de fabricación. Y bueno, también tenemos un servicio de atención al cliente, que está disponible 24-7 para cualquier problema que pueda surgir. Queremos que tanto vosotros como vuestros clientes estén completamente satisfechos con la compra.\"},\n",
    "    {\"speaker\": \"cliente\", \"text\": \"Eso me da mucha tranquilidad. Bien, entiendo el valor del producto. Ahora, volviendo al tema del precio, ¿hay alguna posibilidad de ajustar las condiciones de pago, ofrecen algún tipo de descuento por volumen? Si compramos una cantidad significativa, ¿claro?\"},\n",
    "    {\"speaker\": \"vendedor\", \"text\": \"Mmm... A ver, lo podemos negociar, claro. Y bueno, me gustaría entender mejor vuestras necesidades. ¿Qué cantidad de unidades estarías, este, a ver, pensando en adquirir inicialmente? Y con esa información podríamos buscar una opción que se ajuste a vuestras necesidades de presupuesto y de flujo de caja.\"},\n",
    "    {\"speaker\": \"cliente\", \"text\": \"¿Estaríamos pensando en un pedido inicial de unas 5.000 unidades? Es un número importante para nosotros.\"},\n",
    "    {\"speaker\": \"vendedor\", \"text\": \"5.000 unidades, ¿entendido? Y bueno, con un volumen así, definitivamente podríamos aplicar un descuento por volumen. Y a ver, también podríamos, este, revisar las condiciones de pago. ¿Qué tal si lo hablamos la semana que viene? Así, preparo una propuesta con esos ajustes.\"},\n",
    "    {\"speaker\": \"cliente\", \"text\": \"Me parece perfecto. Te llamo yo el martes por la mañana, ¿te parece bien?\"},\n",
    "    {\"speaker\": \"vendedor\", \"text\": \"Sí, claro. Quedamos así entonces. Y bueno, un placer hablar contigo, Juan. Espero que esta nueva información te ayude a tomar la mejor decisión.\"},\n",
    "    {\"speaker\": \"cliente\", \"text\": \"Igualmente, Pedro. Y gracias por la paciencia y por aclarar todas mis dudas. Hasta el martes.\"}\n",
    "]\n"
   ]
  },
  {
   "cell_type": "code",
   "execution_count": 3,
   "metadata": {},
   "outputs": [],
   "source": [
    "transcript_2 = [\n",
    "    {\"speaker\": \"vendedor\", \"text\": \"Hola Juan, a ver cómo te va. Te llamo porque este... bueno quiero seguir hablando de la reunión del otro día. ¿Qué tal ha ido la semana? ¿Tienes alguna, este, alguna pregunta?\"},\n",
    "    {\"speaker\": \"cliente\", \"text\": \"Hola Pedro, pues bien, gracias. Si la verdad es que he estado revisando vuestra propuesta y tengo un par de preguntas que me gustaría que me aclaraces. El presupuesto me parece un poco alto.\"},\n",
    "    {\"speaker\": \"vendedor\", \"text\": \"Ah, sí, el... el presupuesto, claro. Y bueno, entiendo. Pero este... a ver, déjame que te lo expliqué otra vez. No es solo el producto, sino este, todo lo que viene con él. Es un... a ver, es una inversión en la experiencia del cliente, ¿sabes?\"},\n",
    "    {\"speaker\": \"cliente\", \"text\": \"No me queda muy claro. Puede ser más específico. Me gustaría entender el por qué de ese precio.\"},\n",
    "    {\"speaker\": \"vendedor\", \"text\": \"Sí, claro. A ver, una de las cosas y bueno, es muy importante, es el volumen. Nuestros auriculares, este, tienen un volumen muy... muy alto. Es un... a ver, un 20% más o menos que los demás, sin perder la calidad, claro. Y bueno, es genial para gente que está en sitios con mucho ruido.\"},\n",
    "    {\"speaker\": \"cliente\", \"text\": \"Eso sí que es un punto interesante. La verdad, mucha gente se queja de eso. ¿Qué más? Porque el precio, como te digo, es bastante elevado.\"},\n",
    "    {\"speaker\": \"vendedor\", \"text\": \"Pues, otra cosa, a ver, que es muy guay, es que son... ¿cómo te diría? A ver, para el agua, sí, se pueden sumergir. Y bueno, son perfectos para gente que hace, este, natación o que... bueno, que los usa con lluvia, ¿sabes? O sea, son subacuáticos.\"},\n",
    "    {\"speaker\": \"cliente\", \"text\": \"Eso sí que es un punto muy fuerte. No lo recordaba de la última vez.\"},\n",
    "    {\"speaker\": \"vendedor\", \"text\": \"Sí, exacto. Eso, este, son... a ver, subacuáticos y bueno, también la batería. La batería dura mucho. A ver, creo que eran, este, 12 horas.\"},\n",
    "    {\"speaker\": \"cliente\", \"text\": \"Sí, 12 horas. Es... a ver, es casi el doble que los otros. Y bueno, es muy cómodo para la gente que viaja o que no tiene un... a ver, un enchufe de cerca.\"},\n",
    "    {\"speaker\": \"cliente\", \"text\": \"La verdad, el volumen alto, que sean sumergibles y que la batería dure tanto, son puntos que me comensen. Ahora que los mencionas juntos, le veo más sentido al precio.\"},\n",
    "    {\"speaker\": \"vendedor\", \"text\": \"Sí, esa es la idea. Es que... a ver, es un producto muy... muy completo. Y bueno, ¿qué tal si este... si te reenvío la propuesta con un... a ver, un resumen de estas cosas, para que se le enseñes a tu equipo?\"},\n",
    "    {\"speaker\": \"cliente\", \"text\": \"Me parece bien. Y podríamos hablar del pago. Me gustaría ver si hay alguna forma de hacer un plan más flexible.\"},\n",
    "    {\"speaker\": \"vendedor\", \"text\": \"Sí, claro. Y bueno, lo podemos, este, negociar. A ver, ¿qué te parece si hablamos la semana que viene y lo vemos con calma?\"},\n",
    "    {\"speaker\": \"cliente\", \"text\": \"Perfecto. Te llamo el martes por la mañana.\"},\n",
    "    {\"speaker\": \"vendedor\", \"text\": \"Sí, genial. Quedamos así. Y bueno, un placer.\"},\n",
    "    {\"speaker\": \"cliente\", \"text\": \"Igualmente, Pedro. Hasta el martes.\"}\n",
    "]\n",
    "\n"
   ]
  },
  {
   "cell_type": "code",
   "execution_count": 4,
   "metadata": {},
   "outputs": [],
   "source": [
    "transcript_3 = [\n",
    "    {\"speaker\": \"vendedor\", \"text\": \"Buenas tardes Juan, ¿qué tal? ¿Cómo estás? Te llamo a ver para seguir con el tema de la reunión de la semana pasada, que... quedamos en que te llamaría para ver qué te había parecido la propuesta. ¿Qué tal te ha ido la semana? ¿Alguna novedad? Me imagino que sí, claro. Y bueno, supongo que habrás visto los auriculares y todo lo que te mandé, ¿verdad? Y este... a ver, quiero saber qué opinas, porque la verdad es que estamos muy contentos con el producto que tenemos entre manos y bueno, creemos que tiene un potencial increíble para vuestra marca. Ya te comenté que la experiencia de usuario que ofrecemos es superior a todo lo que hay en el mercado, este... a ver, en cuanto a calidad y prestaciones. Y... ¿y bueno, qué me dices?\"},\n",
    "    {\"speaker\": \"cliente\", \"text\": \"Buenas tardes Pedro. Pues la verdad es que... Sí, claro, dime, dime, te escucho. Seguro que tienes alguna pregunta sobre el coste, ¿verdad?\"},\n",
    "    {\"speaker\": \"vendedor\", \"text\": \"A ver, es lo más habitual, porque entiendo que el precio puede parecer un poco elevado a primera vista, pero... y bueno, como te dije, es una inversión que realmente merece la pena. No estamos hablando de unos auriculares más. A ver, estamos hablando de un producto de muy alta gama, con unas características que no vas a encontrar en ningún otro sitio. Me imagino que, este, a ver, lo habrás pensado y... y bueno, seguro que tienes alguna duda concreta. Yo, la verdad, estoy convencido de que os va a encantar. Y bueno, de que vuestros clientes van a estar fascinados con la calidad del sonido, que es, este, a ver, es espectacular.\"},\n",
    "    {\"speaker\": \"cliente\", \"text\": \"Sí, de hecho el precio...\"},\n",
    "    {\"speaker\": \"vendedor\", \"text\": \"Claro, el precio. Y bueno, déjame que te recuerde los puntos clave. A ver, la gran diferencia es el volumen de escucha. Te lo comenté, pero, este, a ver, quiero que te quede claro. Tenemos un 20% más de volumen que la competencia. Es, este, a ver, es una barbaridad. Y bueno, eso permite que el usuario escuche su música, sus podcasts, lo que sea. Este, a ver, en cualquier entorno, sin que le moleste el ruido de fuera. Y sin perder, este, a ver, ni una pise de calidad. Y bueno, eso es una ventaja competitiva muy importante que, este, a ver, os va a diferenciar mucho. Además, este, a ver, si ves cómo está el mercado ahora, todo mundo busca algo que le haga destacar. Y bueno, la calidad de nuestros auriculares es, a ver, es inigualable. Y bueno, es un valor seguro para vosotros. Además, este, a ver, también está el tema de la resistencia al agua. Nuestros auriculares son subacuáticos. Sí, sí, como lo oyes, se pueden sumergir. Y bueno, esto es una maravilla para, a ver, para los deportistas. Y para la gente que vive en zonas con mucha lluvia. Y bueno, para, este, a ver, para cualquier persona que, que quiera que tenga la tranquilidad de que sus auriculares no se van a estropear con este, con un poco de agua. Y bueno, la batería también es un, este, a ver, un punto muy fuerte. Tenemos 12 horas de duración. Eso es el doble de la media. O sea, este, a ver, es que no hay comparación. Es, a ver, la mejor opción del mercado. Y bueno, ¿qué te parece? ¿Verdad que es increíble?\"},\n",
    "    {\"speaker\": \"cliente\", \"text\": \"Sí, la verdad me parece muy bien. Pero tengo una pregunta sobre el...\"},\n",
    "    {\"speaker\": \"vendedor\", \"text\": \"Seguro que sobre las condiciones de pago. Y este, a ver, no te preocupas por eso, lo podemos negociar. Y bueno, estamos abiertos a, este, hablar de los plazos y de los, a ver, de los volúmenes de compra. Sí, este, a ver, si te interesa un pedido grande, podemos, este, a ver, hacer un descuento especial. Y bueno, la idea es que todos salgamos ganando. Y bueno, ¿qué te parece? ¿Verdad que es una propuesta muy, este, muy atractiva? Ya te digo, ¿eh? Con un pedido grande, podríamos, este, a ver, ofrecer un precio por unidad que se ajuste más a vuestro presupuesto inicial. Y bueno, te aseguro que, este, la calidad del producto y, a ver, la satisfacción del cliente compensa, eh, con creces esa inversión. Y, y bueno, además, este, a ver, la marca de auriculares que ofreces dice mucho de ti. Y bueno, ofrecer unos auriculares con estas prestaciones es, a ver, es proyectar una imagen de marca de, de alta calidad y, este, de innovación.\"},\n",
    "    {\"speaker\": \"cliente\", \"text\": \"Sí. Me alegro de que lo vías así. Y bueno, mira, para no, eh, para no alargarnos más, ¿qué te parece si te envió la propuesta de nuevo? Pero, este, a ver, con un pequeño resumen de las ventajas competitivas, este, a ver, en Negrita, para que se lo puedas enseñar a tu equipo y, y bueno, que vean que la inversión está más que justificada. Y este, a ver, te aseguro que no os vais a arrepentir. Y, y bueno, podríamos, eh, concertar una reunión con tu equipo si quieres, para, este, a ver, para resolver cualquier duda que tengan. Y, y bueno, si lo ven con más detalle.\"},\n",
    "    {\"speaker\": \"vendedor\", \"text\": \"Me parece bien, pero me gustaría... Perfecto, Juan. Y bueno, quedemos así. Te lo envío ahora mismo y, este, a ver, me llama si tienes alguna otra pregunta y, bueno, hablamos la semana que viene para cerrar los, los detalles. Y este, a ver, seguro que todo sale bien. Y, y bueno, un placer.\"},\n",
    "    {\"speaker\": \"cliente\", \"text\": \"Igualmente, Pedro. Hasta el martes.\"}\n",
    "]\n",
    "# Pequeños fallos en el postprocesado, en las últimas 3 líneas se falla en el speaker\n"
   ]
  },
  {
   "cell_type": "markdown",
   "metadata": {},
   "source": [
    "## Output 1 - Bueno"
   ]
  },
  {
   "cell_type": "code",
   "execution_count": 19,
   "metadata": {},
   "outputs": [],
   "source": [
    "kpi_summary = calcular_scoring(transcript_bueno, duracion=374)"
   ]
  },
  {
   "cell_type": "code",
   "execution_count": 20,
   "metadata": {},
   "outputs": [
    {
     "data": {
      "text/plain": [
       "{'muletillas': {'porcentaje': 4.28, 'por_minuto': 4.17, 'nota': 50},\n",
       " 'claridad': {'indice_complejidad': 0.0,\n",
       "  'palabras_clave': 2,\n",
       "  'palabras_complejas': 0,\n",
       "  'nota': 100},\n",
       " 'participacion': {'porcentaje_vendedor': 64.99,\n",
       "  'palabras_vendedor': 607,\n",
       "  'palabras_cliente': 327,\n",
       "  'nota': 50},\n",
       " 'temas_tratados': {'cobertura_porcentaje': 100.0,\n",
       "  'temas_cubiertos': {'precios': True, 'beneficios': True, 'objeciones': True},\n",
       "  'nota': 100},\n",
       " 'indice_preguntas_abiertas': {'indice': 80.0,\n",
       "  'abiertas': 4,\n",
       "  'total': 5,\n",
       "  'nota': 100},\n",
       " 'estructura_concision': {'palabras_por_turno': 60.7,\n",
       "  'num_turnos': 10,\n",
       "  'nota': 50},\n",
       " 'feedback': {'participacion': 'Has hablado más que el cliente. Practica la escucha activa.',\n",
       "  'preguntas': 'Buen uso de preguntas abiertas.',\n",
       "  'claridad': 'Buen uso del lenguaje claro y palabras clave.',\n",
       "  'temas': 'Se han tocado los temas más relevantes.',\n",
       "  'muletillas': 'Cuidado con el uso excesivo de muletillas. Afecta la fluidez.',\n",
       "  'concision': 'Tus intervenciones son largas. Trata de ser más directo.'},\n",
       " 'nota_final': 82.5}"
      ]
     },
     "execution_count": 20,
     "metadata": {},
     "output_type": "execute_result"
    }
   ],
   "source": [
    "kpi_summary"
   ]
  },
  {
   "cell_type": "code",
   "execution_count": 21,
   "metadata": {},
   "outputs": [],
   "source": [
    "feedback = kpi_summary['feedback']"
   ]
  },
  {
   "cell_type": "code",
   "execution_count": 22,
   "metadata": {},
   "outputs": [],
   "source": [
    "prompt = f\"\"\"\n",
    "Actúa como un formador de ventas senior y muy exigente. Tu tarea es evaluar una conversación entre un vendedor y un cliente simulado. \n",
    "El objetivo es que el vendedor mejore, no que se sienta bien.\n",
    "\n",
    "Genera un informe de feedback en español que sea:\n",
    "\n",
    "- Claro y directo.\n",
    "- Crítico cuando sea necesario.\n",
    "- Sin frases genéricas como \"buen intento\", \"estás en el camino correcto\" o \"puedes mejorar\".\n",
    "- SIN felicitaciones si no hay un mérito real.\n",
    "- SIN lenguaje motivacional ni positivo por defecto.\n",
    "\n",
    "Estructura el feedback así:\n",
    "1. Fortalezas (solo si las hay, no inventes).\n",
    "2. Fallos importantes.\n",
    "3. Recomendaciones concretas para la próxima conversación.\n",
    "\n",
    "Evalúa aspectos como:\n",
    "- Escucha activa (¿habla demasiado el vendedor?).\n",
    "- Uso de preguntas abiertas.\n",
    "- Claridad del mensaje (¿usa palabras complejas innecesarias?).\n",
    "- Capacidad para detectar necesidades reales.\n",
    "- Cierre de la conversación (¿hace una propuesta concreta?).\n",
    "- Empatía (¿muestra interés genuino?).\n",
    "- Uso de muletillas y estructura de las intervenciones.\n",
    "\n",
    "No des ninguna nota numérica. No suavices las críticas. Tu prioridad es ser útil, no amable.\n",
    "\n",
    "### Datos del análisis de KPIs:\n",
    "\n",
    "{feedback}\n",
    "\n",
    "### Transcripción de la conversación:\n",
    "\n",
    "{transcript_bueno}\n",
    "\"\"\""
   ]
  },
  {
   "cell_type": "code",
   "execution_count": 23,
   "metadata": {},
   "outputs": [],
   "source": [
    "output_mistral = generar_feedback_llm(prompt, transcript_bueno, feedback, 'mistral:instruct')"
   ]
  },
  {
   "cell_type": "code",
   "execution_count": 27,
   "metadata": {},
   "outputs": [
    {
     "name": "stdout",
     "output_type": "stream",
     "text": [
      " La conversación se desarrolla de forma natural y clara entre el vendedor y el cliente. Ambos intercambian preguntas y respuestas para clarificar dudas sobre el producto y su precio. El vendedor explica las ventajas y diferencias de los auriculares que ofrece, ya que no solo se trata de un simple producto, sino que se están adquiriendo una serie de ventajas que impactan en la experiencia del usuario. El cliente se muestra interesado y expresa su entusiasmo al saber que el producto cuenta con características como la resistencia al agua, un volumen más alto que la media del mercado y una duración de batería casi doble que la mayoría de los competidores. Finalmente, se arregla para seguir hablando en semanas posteriores para negociar las condiciones de pago y el pedido inicial de 5.000 unidades.\n",
      "\n",
      "Las observaciones del asistente son válidas en general: la conversación es clara y natural, pero podría mejorarse reduciendo la longitud de las intervenciones del vendedor y siendo más directo en sus respuestas. En cuanto a concision, se puede decir que se necesita trabajo para hacerlas más cortas y directas.\n",
      "\n",
      "\n"
     ]
    }
   ],
   "source": [
    "# 42segs\n",
    "print(output_mistral)"
   ]
  },
  {
   "cell_type": "code",
   "execution_count": 42,
   "metadata": {},
   "outputs": [],
   "source": [
    "output_llama = generar_feedback_llm(prompt, transcript_bueno, feedback, 'llama3')"
   ]
  },
  {
   "cell_type": "code",
   "execution_count": 43,
   "metadata": {},
   "outputs": [
    {
     "name": "stdout",
     "output_type": "stream",
     "text": [
      "**Feedback**\n",
      "\n",
      "1. **Fortalezas**: Buen uso de preguntas abiertas y claridad en el lenguaje.\n",
      "\n",
      "2. **Fallos importantes**:\n",
      "* Has hablado más que el cliente, lo que impide una conversación equilibrada y puede hacer que el cliente se sienta interrumpido.\n",
      "* Tus intervenciones son largas y necesitan concreción, lo que puede afectar la fluidez de la conversación.\n",
      "\n",
      "3. **Recomendaciones**:\n",
      "* Practica la escucha activa y no te centres en hablar más que el cliente. Deja espacio para que el cliente pueda expresarse y aportar sus propias ideas.\n",
      "* Trata de ser más directo y conciso en tus intervenciones, evitando frases como \"Y bueno\" o \"A ver\", que pueden parecer innecesarias y afectan la fluidez de la conversación.\n",
      "* Aprovecha al máximo el tiempo de conversación para explorar las necesidades del cliente y responder a sus preguntas de manera clara y concisa.\n",
      "\n",
      "\n"
     ]
    }
   ],
   "source": [
    "# \n",
    "print(output_llama)"
   ]
  },
  {
   "cell_type": "markdown",
   "metadata": {},
   "source": [
    "## Output 2 - Muchas muletillas"
   ]
  },
  {
   "cell_type": "code",
   "execution_count": 28,
   "metadata": {},
   "outputs": [],
   "source": [
    "kpi_summary_2 = calcular_scoring(transcript_2, duracion=194)"
   ]
  },
  {
   "cell_type": "code",
   "execution_count": 29,
   "metadata": {},
   "outputs": [
    {
     "data": {
      "text/plain": [
       "{'muletillas': {'porcentaje': 7.5, 'por_minuto': 6.49, 'nota': 0},\n",
       " 'claridad': {'indice_complejidad': 0.0,\n",
       "  'palabras_clave': 0,\n",
       "  'palabras_complejas': 0,\n",
       "  'nota': 50},\n",
       " 'participacion': {'porcentaje_vendedor': 59.45,\n",
       "  'palabras_vendedor': 280,\n",
       "  'palabras_cliente': 191,\n",
       "  'nota': 100},\n",
       " 'temas_tratados': {'cobertura_porcentaje': 66.67,\n",
       "  'temas_cubiertos': {'precios': True,\n",
       "   'beneficios': False,\n",
       "   'objeciones': True},\n",
       "  'nota': 50},\n",
       " 'indice_preguntas_abiertas': {'indice': 80.0,\n",
       "  'abiertas': 4,\n",
       "  'total': 5,\n",
       "  'nota': 100},\n",
       " 'estructura_concision': {'palabras_por_turno': 35.0,\n",
       "  'num_turnos': 8,\n",
       "  'nota': 50},\n",
       " 'feedback': {'participacion': 'Buen equilibrio entre hablar y escuchar.',\n",
       "  'preguntas': 'Buen uso de preguntas abiertas.',\n",
       "  'claridad': 'Podrías reforzar la claridad del mensaje usando más términos clave.',\n",
       "  'temas': 'No se han abordado suficientes temas clave durante la conversación',\n",
       "  'muletillas': 'Cuidado con el uso excesivo de muletillas. Afecta la fluidez.',\n",
       "  'concision': 'Tus intervenciones son largas. Trata de ser más directo.'},\n",
       " 'nota_final': 60.0}"
      ]
     },
     "execution_count": 29,
     "metadata": {},
     "output_type": "execute_result"
    }
   ],
   "source": [
    "kpi_summary_2"
   ]
  },
  {
   "cell_type": "code",
   "execution_count": 30,
   "metadata": {},
   "outputs": [],
   "source": [
    "feedback_2 = kpi_summary_2[\"feedback\"]"
   ]
  },
  {
   "cell_type": "code",
   "execution_count": 31,
   "metadata": {},
   "outputs": [],
   "source": [
    "prompt_2 = f\"\"\"\n",
    "Actúa como un formador de ventas senior y muy exigente. Tu tarea es evaluar una conversación entre un vendedor y un cliente simulado. \n",
    "El objetivo es que el vendedor mejore, no que se sienta bien.\n",
    "\n",
    "Genera un informe de feedback en español que sea:\n",
    "\n",
    "- Claro y directo.\n",
    "- Crítico cuando sea necesario.\n",
    "- Sin frases genéricas como \"buen intento\", \"estás en el camino correcto\" o \"puedes mejorar\".\n",
    "- SIN felicitaciones si no hay un mérito real.\n",
    "- SIN lenguaje motivacional ni positivo por defecto.\n",
    "\n",
    "Estructura el feedback así:\n",
    "1. Fortalezas (solo si las hay, no inventes).\n",
    "2. Fallos importantes.\n",
    "3. Recomendaciones concretas para la próxima conversación.\n",
    "\n",
    "Evalúa aspectos como:\n",
    "- Escucha activa (¿habla demasiado el vendedor?).\n",
    "- Uso de preguntas abiertas.\n",
    "- Claridad del mensaje (¿usa palabras complejas innecesarias?).\n",
    "- Capacidad para detectar necesidades reales.\n",
    "- Cierre de la conversación (¿hace una propuesta concreta?).\n",
    "- Empatía (¿muestra interés genuino?).\n",
    "- Uso de muletillas y estructura de las intervenciones.\n",
    "\n",
    "No des ninguna nota numérica. No suavices las críticas. Tu prioridad es ser útil, no amable.\n",
    "\n",
    "### Datos del análisis de KPIs:\n",
    "\n",
    "{feedback_2}\n",
    "\n",
    "### Transcripción de la conversación:\n",
    "\n",
    "{transcript_2}\n",
    "\"\"\""
   ]
  },
  {
   "cell_type": "code",
   "execution_count": 32,
   "metadata": {},
   "outputs": [],
   "source": [
    "output_mistral_2 = generar_feedback_llm(prompt_2, transcript_2, feedback_2, 'mistral:instruct')"
   ]
  },
  {
   "cell_type": "code",
   "execution_count": 33,
   "metadata": {},
   "outputs": [
    {
     "name": "stdout",
     "output_type": "stream",
     "text": [
      " Informe de feedback\n",
      "\n",
      "Fortalezas:\n",
      "- El vendedor hace un buen uso de preguntas abiertas.\n",
      "- Hay un buen equilibrio entre hablar y escuchar.\n",
      "\n",
      "Fallos importantes:\n",
      "- La claridad del mensaje podría ser mejorada mediante el uso de más términos clave.\n",
      "- No se han abordado suficientes temas clave durante la conversación.\n",
      "- El vendedor usa excesivamente muletillas, lo que afecta la fluidez y la concisión de sus intervenciones.\n",
      "\n",
      "Recomendaciones para la próxima conversación:\n",
      "- Intenta ser más directo y claro en tu mensaje, evitando la utilización de palabras complejas innecesarias o muletillas.\n",
      "- Aborda los temas clave y relevantes que puedan interesar al cliente, además del producto principal.\n",
      "- Trata de ser más conciso en tus intervenciones, evitando largos monólogos o digresiones innecesarias.\n",
      "- Piensa en cómo podés presentar tu propuesta en un resumen claro y conciso, que pueda ser compartido con el equipo del cliente si es necesario.\n",
      "- Al cerrar la conversación, haz una propuesta específica y concreta para el siguiente paso, en lugar de hablar de \"hablamos la semana que viene\".\n",
      "\n",
      "\n"
     ]
    }
   ],
   "source": [
    "# 33,9 s\n",
    "print(output_mistral_2)"
   ]
  },
  {
   "cell_type": "code",
   "execution_count": 34,
   "metadata": {},
   "outputs": [],
   "source": [
    "output_llama_2 = generar_feedback_llm(prompt_2, transcript_2, feedback_2, 'llama3')"
   ]
  },
  {
   "cell_type": "code",
   "execution_count": 35,
   "metadata": {},
   "outputs": [
    {
     "name": "stdout",
     "output_type": "stream",
     "text": [
      "**Análisis de la conversación**\n",
      "\n",
      "**Fortalezas:**\n",
      "\n",
      "* La participación en la conversación es buena y se mantiene un equilibrio entre hablar y escuchar.\n",
      "* El vendedor utiliza preguntas abiertas para involucrar al cliente y generar interés.\n",
      "\n",
      "**Fallos importantes:**\n",
      "\n",
      "* La claridad del mensaje no es clara. Aunque el vendedor intenta explicar las características del producto, su lenguaje es demasiado complicado y utiliza muletillas que afectan la fluidez de la conversación.\n",
      "* No se abordan suficientes temas clave durante la conversación. El vendedor se centra en describir las características del producto sin profundizar en las necesidades reales del cliente.\n",
      "* Las intervenciones del vendedor son largas y no están estructuradas. Esto puede llevar a la pérdida de interés del cliente.\n",
      "\n",
      "**Recomendaciones concretas para la próxima conversación:**\n",
      "\n",
      "1. Reforzar la claridad del mensaje utilizando términos clave y evitando el uso excesivo de muletillas.\n",
      "2. Abordar temas clave relacionados con las necesidades reales del cliente, como el presupuesto y los beneficios del producto.\n",
      "3. Mantener intervenciones breves y estructuradas para mantener la atención del cliente.\n",
      "4. No dejar que el lenguaje corporativo complejo te llevara a distraerte de las necesidades del cliente.\n",
      "\n",
      "**Conclusión:**\n",
      "\n",
      "Aunque el vendedor tiene algunas fortalezas, como la participación en la conversación y el uso de preguntas abiertas, es importante trabajar en la claridad del mensaje, la estructura de las intervenciones y la abordaje de temas clave para mejorar la eficacia de la conversación.\n",
      "\n",
      "\n"
     ]
    }
   ],
   "source": [
    "# 41s \n",
    "print(output_llama_2)"
   ]
  },
  {
   "cell_type": "markdown",
   "metadata": {},
   "source": [
    "## Output 3 - Malo"
   ]
  },
  {
   "cell_type": "code",
   "execution_count": 36,
   "metadata": {},
   "outputs": [],
   "source": [
    "kpi_summary_3 = calcular_scoring(transcript_3, duracion=300)"
   ]
  },
  {
   "cell_type": "code",
   "execution_count": 37,
   "metadata": {},
   "outputs": [
    {
     "data": {
      "text/plain": [
       "{'muletillas': {'porcentaje': 6.77, 'por_minuto': 10.2, 'nota': 0},\n",
       " 'claridad': {'indice_complejidad': 0.0,\n",
       "  'palabras_clave': 0,\n",
       "  'palabras_complejas': 0,\n",
       "  'nota': 50},\n",
       " 'participacion': {'porcentaje_vendedor': 82.84,\n",
       "  'palabras_vendedor': 753,\n",
       "  'palabras_cliente': 156,\n",
       "  'nota': 50},\n",
       " 'temas_tratados': {'cobertura_porcentaje': 100.0,\n",
       "  'temas_cubiertos': {'precios': True, 'beneficios': True, 'objeciones': True},\n",
       "  'nota': 100},\n",
       " 'indice_preguntas_abiertas': {'indice': 100.0,\n",
       "  'abiertas': 3,\n",
       "  'total': 3,\n",
       "  'nota': 100},\n",
       " 'estructura_concision': {'palabras_por_turno': 150.6,\n",
       "  'num_turnos': 5,\n",
       "  'nota': 0},\n",
       " 'feedback': {'participacion': 'Has hablado más que el cliente. Practica la escucha activa.',\n",
       "  'preguntas': 'Buen uso de preguntas abiertas.',\n",
       "  'claridad': 'Podrías reforzar la claridad del mensaje usando más términos clave.',\n",
       "  'temas': 'Se han tocado los temas más relevantes.',\n",
       "  'muletillas': 'Cuidado con el uso excesivo de muletillas. Afecta la fluidez.',\n",
       "  'concision': 'Tus intervenciones son muy largas. Trata de ser más directo.'},\n",
       " 'nota_final': 60.0}"
      ]
     },
     "execution_count": 37,
     "metadata": {},
     "output_type": "execute_result"
    }
   ],
   "source": [
    "kpi_summary_3"
   ]
  },
  {
   "cell_type": "code",
   "execution_count": 38,
   "metadata": {},
   "outputs": [],
   "source": [
    "feedback_3 = kpi_summary_3[\"feedback\"]"
   ]
  },
  {
   "cell_type": "code",
   "execution_count": 39,
   "metadata": {},
   "outputs": [],
   "source": [
    "prompt_3 = f\"\"\"\n",
    "Actúa como un formador de ventas senior y muy exigente. Tu tarea es evaluar una conversación entre un vendedor y un cliente simulado. \n",
    "El objetivo es que el vendedor mejore, no que se sienta bien.\n",
    "\n",
    "Genera un informe de feedback en español que sea:\n",
    "\n",
    "- Claro y directo.\n",
    "- Crítico cuando sea necesario.\n",
    "- Sin frases genéricas como \"buen intento\", \"estás en el camino correcto\" o \"puedes mejorar\".\n",
    "- SIN felicitaciones si no hay un mérito real.\n",
    "- SIN lenguaje motivacional ni positivo por defecto.\n",
    "\n",
    "Estructura el feedback así:\n",
    "1. Fortalezas (solo si las hay, no inventes).\n",
    "2. Fallos importantes.\n",
    "3. Recomendaciones concretas para la próxima conversación.\n",
    "\n",
    "Evalúa aspectos como:\n",
    "- Escucha activa (¿habla demasiado el vendedor?).\n",
    "- Uso de preguntas abiertas.\n",
    "- Claridad del mensaje (¿usa palabras complejas innecesarias?).\n",
    "- Capacidad para detectar necesidades reales.\n",
    "- Cierre de la conversación (¿hace una propuesta concreta?).\n",
    "- Empatía (¿muestra interés genuino?).\n",
    "- Uso de muletillas y estructura de las intervenciones.\n",
    "\n",
    "No des ninguna nota numérica. No suavices las críticas. Tu prioridad es ser útil, no amable.\n",
    "\n",
    "### Datos del análisis de KPIs:\n",
    "\n",
    "{feedback_3}\n",
    "\n",
    "### Transcripción de la conversación:\n",
    "\n",
    "{transcript_3}\n",
    "\"\"\""
   ]
  },
  {
   "cell_type": "code",
   "execution_count": 40,
   "metadata": {},
   "outputs": [],
   "source": [
    "output_mistral_3 = generar_feedback_llm(prompt_3, transcript_3, feedback_3, 'mistral:instruct')"
   ]
  },
  {
   "cell_type": "code",
   "execution_count": 41,
   "metadata": {},
   "outputs": [
    {
     "name": "stdout",
     "output_type": "stream",
     "text": [
      " En la conversación proporcionada, se observa que el vendedor habla más que el cliente, lo cual puede indicar que no está practicando la escucha activa. Sin embargo, el uso de preguntas abiertas es bueno y permite al cliente compartir sus opiniones y preguntas sobre el producto. El vendedor podría mejorar en la claridad del mensaje utilizando más términos clave para facilitar la comprensión y el entendimiento del cliente. También es necesario reducir la longitud de las intervenciones del vendedor y ser más directo al transmitir información relevante y importante sobre el producto. En resumen, es importante que el vendedor practique la escucha activa, sea más claro en su mensaje, y se asegure de transmitir información relevante y valiosa para el cliente en un formato conciso y directo.\n",
      "\n",
      "\n"
     ]
    }
   ],
   "source": [
    "# 48,3 s\n",
    "print(output_mistral_3)"
   ]
  },
  {
   "cell_type": "code",
   "execution_count": 44,
   "metadata": {},
   "outputs": [],
   "source": [
    "output_llama_3 = generar_feedback_llm(prompt_3, transcript_3, feedback_3, 'llama3')"
   ]
  },
  {
   "cell_type": "code",
   "execution_count": 45,
   "metadata": {},
   "outputs": [
    {
     "name": "stdout",
     "output_type": "stream",
     "text": [
      "**Feedback**\n",
      "\n",
      "**Fortalezas**: No hay fortalezas específicas en esta conversación.\n",
      "\n",
      "**Faltos importantes**:\n",
      "\n",
      "* La conversación está dominada por el vendedor, quien habla más que el cliente. Es importante practicar la escucha activa y permitir al cliente expresarse.\n",
      "* El uso de muletillas es excesivo y afecta la fluidez de la conversación. Asegúrese de ser más directo y evitar repetir palabras o frases innecesarias.\n",
      "\n",
      "**Recomendaciones concretas para la próxima conversación**:\n",
      "\n",
      "* Trate de preguntar más preguntas abiertas que cerradas para involucrar al cliente y conocer mejor sus necesidades.\n",
      "* Asegúrese de ser claro y conciso en su mensaje, evite usar palabras complejas innecesarias.\n",
      "* Ponga énfasis en las características únicas del producto y cómo pueden satisfacer las necesidades del cliente, en lugar de simplemente presentar una lista de características.\n",
      "* Asegúrese de hacer propuestas concretas y específicas para el cliente, en lugar de generalizar o hablar de forma abstracta.\n",
      "\n",
      "\n"
     ]
    }
   ],
   "source": [
    "# 35s\n",
    "print(output_llama_3)"
   ]
  }
 ],
 "metadata": {
  "kernelspec": {
   "display_name": ".venv",
   "language": "python",
   "name": "python3"
  },
  "language_info": {
   "codemirror_mode": {
    "name": "ipython",
    "version": 3
   },
   "file_extension": ".py",
   "mimetype": "text/x-python",
   "name": "python",
   "nbconvert_exporter": "python",
   "pygments_lexer": "ipython3",
   "version": "3.13.5"
  }
 },
 "nbformat": 4,
 "nbformat_minor": 2
}
