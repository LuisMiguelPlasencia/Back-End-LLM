{
 "cells": [
  {
   "cell_type": "markdown",
   "metadata": {},
   "source": [
    "# KPIs To Profile"
   ]
  },
  {
   "cell_type": "code",
   "execution_count": 1,
   "metadata": {},
   "outputs": [],
   "source": [
    "import math\n",
    "\n",
    "# 1. Definimos los perfiles base con sus \"notas numéricas\"\n",
    "# (usamos escala: Bajo=1, Medio-Bajo=2, Medio=3, Medio-Alto=4, Alto=5)\n",
    "perfiles = {\n",
    "    \"Conector\": {\"prospeccion\": 2, \"empatia\": 5, \"dominio\": 1, \"negociacion\": 3, \"resiliencia\": 5},\n",
    "    \"Especialista\": {\"prospeccion\": 1, \"empatia\": 1, \"dominio\": 5, \"negociacion\": 3, \"resiliencia\": 3},\n",
    "    \"Cazador\": {\"prospeccion\": 5, \"empatia\": 1, \"dominio\": 1, \"negociacion\": 5, \"resiliencia\": 5},\n",
    "    \"Negociador\": {\"prospeccion\": 3, \"empatia\": 3, \"dominio\": 4, \"negociacion\": 5, \"resiliencia\": 3},\n",
    "    \"Vendedor Integral\": {\"prospeccion\": 5, \"empatia\": 5, \"dominio\": 5, \"negociacion\": 5, \"resiliencia\": 5},\n",
    "    \"Asistente\": {\"prospeccion\": 2, \"empatia\": 5, \"dominio\": 1, \"negociacion\": 1, \"resiliencia\": 2},\n",
    "    \"Consultor\": {\"prospeccion\": 3, \"empatia\": 5, \"dominio\": 4, \"negociacion\": 5, \"resiliencia\": 3},\n",
    "    \"Vendedor Persuasivo\": {\"prospeccion\": 3, \"empatia\": 1, \"dominio\": 3, \"negociacion\": 5, \"resiliencia\": 5},\n",
    "    \"Constructor de Relaciones\": {\"prospeccion\": 2, \"empatia\": 5, \"dominio\": 1, \"negociacion\": 1, \"resiliencia\": 3},\n",
    "    \"Emprendedor\": {\"prospeccion\": 5, \"empatia\": 3, \"dominio\": 2, \"negociacion\": 3, \"resiliencia\": 3}\n",
    "}\n",
    "\n",
    "def clasificar_vendedor(prospeccion, empatia, dominio, negociacion, resiliencia):\n",
    "    \"\"\"Clasifica un vendedor al perfil más cercano basado en distancia euclidiana.\"\"\"\n",
    "    input_vector = {\n",
    "        \"prospeccion\": prospeccion,\n",
    "        \"empatia\": empatia,\n",
    "        \"dominio\": dominio,\n",
    "        \"negociacion\": negociacion,\n",
    "        \"resiliencia\": resiliencia\n",
    "    }\n",
    "    \n",
    "    mejor_perfil = None\n",
    "    menor_distancia = float(\"inf\")\n",
    "    \n",
    "    for perfil, valores in perfiles.items():\n",
    "        # calcular distancia euclidiana\n",
    "        dist = math.sqrt(sum((input_vector[k] - valores[k])**2 for k in input_vector))\n",
    "        \n",
    "        if dist < menor_distancia:\n",
    "            menor_distancia = dist\n",
    "            mejor_perfil = perfil\n",
    "    \n",
    "    return mejor_perfil, menor_distancia\n"
   ]
  },
  {
   "cell_type": "code",
   "execution_count": 2,
   "metadata": {},
   "outputs": [
    {
     "data": {
      "text/plain": [
       "('Vendedor Integral', 2.23606797749979)"
      ]
     },
     "execution_count": 2,
     "metadata": {},
     "output_type": "execute_result"
    }
   ],
   "source": [
    "clasificar_vendedor(3,4,5,5,5)"
   ]
  },
  {
   "cell_type": "code",
   "execution_count": 4,
   "metadata": {},
   "outputs": [
    {
     "data": {
      "text/plain": [
       "('Especialista', 2.23606797749979)"
      ]
     },
     "execution_count": 4,
     "metadata": {},
     "output_type": "execute_result"
    }
   ],
   "source": [
    "clasificar_vendedor(1,2,3,3,3)"
   ]
  }
 ],
 "metadata": {
  "kernelspec": {
   "display_name": "speech-to-text-backend-2J9T7oHW-py3.13",
   "language": "python",
   "name": "python3"
  },
  "language_info": {
   "codemirror_mode": {
    "name": "ipython",
    "version": 3
   },
   "file_extension": ".py",
   "mimetype": "text/x-python",
   "name": "python",
   "nbconvert_exporter": "python",
   "pygments_lexer": "ipython3",
   "version": "3.13.5"
  }
 },
 "nbformat": 4,
 "nbformat_minor": 2
}
